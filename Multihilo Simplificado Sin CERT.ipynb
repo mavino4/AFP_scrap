{
 "cells": [
  {
   "cell_type": "code",
   "execution_count": 10,
   "metadata": {},
   "outputs": [
    {
     "name": "stderr",
     "output_type": "stream",
     "text": [
      "/home/mavino/anaconda3/envs/SEVIMAworkflow/lib/python3.6/site-packages/urllib3/connectionpool.py:988: InsecureRequestWarning: Unverified HTTPS request is being made to host 'cnslp.gob.bo'. Adding certificate verification is strongly advised. See: https://urllib3.readthedocs.io/en/latest/advanced-usage.html#ssl-warnings\n",
      "  InsecureRequestWarning,\n"
     ]
    }
   ],
   "source": [
    "import requests\n",
    "import ipaddress\n",
    "import pandas as pd\n",
    "import numpy as np \n",
    "from concurrent.futures import ThreadPoolExecutor, as_completed\n",
    "from anticaptchaofficial.recaptchav2proxyless import *\n",
    "import time\n",
    "import os \n",
    "\n",
    "url_fichas = \"https://cnslp.gob.bo:3333/api/afiliaciones/afiliado/registro\" \n",
    "url_oficinas = \"https://cnslp.gob.bo:3333/api/afiliaciones/oficinas\"\n",
    "url_disponibilidad = \"https://cnslp.gob.bo:3333/api/afiliaciones/atencion/disponible/1\"\n",
    "download_directory = \"/media/F/sevima/SEVIMAworkflow-master/fichasCNS/FICHAS\"\n",
    "\n",
    "oficinas = requests.get(url_oficinas,  verify=False )\n",
    "oficinasDF = pd.DataFrame(oficinas.json()[\"respuesta\"][\"data\"])\n",
    "\n",
    "\n",
    "\n",
    "# Generando los elementos \n",
    "from selenium import webdriver\n",
    "\n",
    "profile = webdriver.FirefoxProfile()\n",
    "profile.set_preference(\"browser.download.folderList\", 2)\n",
    "profile.set_preference(\"browser.download.manager.showWhenStarting\", False)\n",
    "profile.set_preference(\"browser.download.dir\", download_directory)\n",
    "profile.set_preference(\"browser.helperApps.neverAsk.saveToDisk\", \"application/x-gzip,application/pdf,document/pdf\")\n",
    "profile.set_preference( \"pdfjs.disabled\", True );\n",
    "\n",
    "navegador = webdriver.Firefox(profile)\n",
    "\n",
    "time.sleep(5)\n",
    "\n",
    "qr = \"A5l2lu|CNS|18|02/02/2021|11:36|Modulo 2|SUPLICIO SERRANO QUISPE|Regional La Paz\"\n",
    "url_i = \"http://127.0.0.1:8000/fichasCNS/generarFicha?nro_ficha={nro_ficha}&fecha_atencion={fecha_atencion}&hora_aproximada={hora_aproximada}&cubiculo={cubiculo}&persona={persona}&oficina={oficina}&codigo={codigo}\".format(\n",
    "            nro_ficha     = qr.split(\"|\")[2]\n",
    "            ,fecha_atencion   = qr.split(\"|\")[3]\n",
    "            ,hora_aproximada    = qr.split(\"|\")[4]\n",
    "            ,cubiculo  = qr.split(\"|\")[5]\n",
    "            ,persona  = qr.split(\"|\")[6]\n",
    "            ,oficina = qr.split(\"|\")[7] \n",
    "            ,codigo = qr.split(\"|\")[0])\n",
    "navegador.get(url_i)\n",
    "time.sleep(5)\n",
    "\n",
    "\n",
    "\n",
    "def get_cookies(pc_i):\n",
    "    data_ip = {}\n",
    "    data_ip[\"ip\"] = {\"ip\" : pc_i[\"ip\"]}\n",
    "    disponible = requests.put(url_disponibilidad+ \"/normal\",data=json.dumps(data_ip), headers = pc_i[\"head\"],  verify=False )\n",
    "    j = np.random.randint(1,5)\n",
    "    time.sleep(j)\n",
    "    return pc_i, disponible.json()\n",
    "\n",
    "def ResolveCaptcha():\n",
    "    start = time.time()\n",
    "    solver = recaptchaV2Proxyless()\n",
    "    solver.set_key(\"1abe93053bf95bd161451cde01bf8e02\")\n",
    "    solver.set_website_url(\"https://cnslp.gob.bo/\")\n",
    "    solver.set_website_key(\"6LdXcaYZAAAAADVL-ITTxLsKBGpVoBO_pXoZ468Z\")\n",
    "    # solver.set_verbose(1)\n",
    "    g_response = solver.solve_and_return_solution()\n",
    "    print(f'Time taken captcha_i: {time.time() - start}')\n",
    "    return g_response"
   ]
  },
  {
   "cell_type": "markdown",
   "metadata": {},
   "source": [
    "# Construyendo PCs random "
   ]
  },
  {
   "cell_type": "code",
   "execution_count": 11,
   "metadata": {},
   "outputs": [
    {
     "name": "stderr",
     "output_type": "stream",
     "text": [
      "/home/mavino/anaconda3/envs/SEVIMAworkflow/lib/python3.6/site-packages/urllib3/connectionpool.py:988: InsecureRequestWarning: Unverified HTTPS request is being made to host 'cnslp.gob.bo'. Adding certificate verification is strongly advised. See: https://urllib3.readthedocs.io/en/latest/advanced-usage.html#ssl-warnings\n",
      "  InsecureRequestWarning,\n"
     ]
    },
    {
     "data": {
      "text/plain": [
       "{'ok': True,\n",
       " 'mensaje': 'Se Recuperaron Registros Correctamente',\n",
       " 'respuesta': [{'dia': '04/08/2021'},\n",
       "  {'dia': '04/08/2021'},\n",
       "  {'dia': '04/08/2021'},\n",
       "  {'dia': '04/08/2021'},\n",
       "  {'dia': '04/08/2021'},\n",
       "  {'dia': '04/08/2021'},\n",
       "  {'dia': '04/08/2021'},\n",
       "  {'dia': '04/08/2021'},\n",
       "  {'dia': '04/08/2021'},\n",
       "  {'dia': '04/08/2021'},\n",
       "  {'dia': '04/08/2021'},\n",
       "  {'dia': '04/08/2021'},\n",
       "  {'dia': '04/08/2021'},\n",
       "  {'dia': '04/08/2021'},\n",
       "  {'dia': '04/08/2021'},\n",
       "  {'dia': '04/08/2021'}],\n",
       " 'cookie': 'Lu23FRxoS4EfKJH8ZLqyhbXF3cM4mL'}"
      ]
     },
     "execution_count": 11,
     "metadata": {},
     "output_type": "execute_result"
    }
   ],
   "source": [
    "# Cargando Elementos \n",
    "RANGOS_LP = pd.read_csv(\"ISP_LAPAZ.csv\", index_col=0 )\n",
    "chrome = pd.read_csv(\"Chrome.txt\",sep=\"|\")\n",
    "mozilla = pd.read_csv(\"Firefox.txt\", sep=\"|\")\n",
    "AGENTES = np.concatenate((mozilla.values , chrome.values[2:]))\n",
    "\n",
    "PCs = []\n",
    "for i in range(1000): \n",
    "    rango_i = RANGOS_LP.sample(1)\n",
    "    A = rango_i[\"ip_from\"].values[0] + 0 \n",
    "    B = rango_i[\"ip_to\"].values[0] - 1\n",
    "    n = np.random.randint(0, B - A ) \n",
    "    dir_IP = str(ipaddress.IPv4Address(int(A + n )))\n",
    "    headers = {  \"Host\"            : \"cnslp.gob.bo:3333\"\n",
    "                ,\"User-Agent\"      : np.random.choice(AGENTES.flatten(), 1)[0]\n",
    "                ,\"Accept\"          : \"application/json, text/plain, */*\"\n",
    "                ,\"Accept-Language\" : \"es-MX, es; q = 0.8, en-US; q = 0.5, en; q = 0.3\"\n",
    "                ,\"Accept-Encoding\" : \"gzip, deflate, br\"\n",
    "                ,\"Content-Type\"    : \"application/json\"\n",
    "                ,\"Content-Length\"  : \"29\"\n",
    "                ,\"Origin\"          : \"https://cnslp.gob.bo\"\n",
    "                ,\"Connection\"      : \"keep - alive\"\n",
    "                ,\"Referer\"         : \"https://cnslp.gob.bo/\"\n",
    "        }\n",
    "    \n",
    "    PCs.append( { \"ip\"    :  dir_IP, \n",
    "                  \"head\"  : headers,\n",
    "                  \"cookie\": \"\"})\n",
    "\n",
    "pc_i = PCs[13]\n",
    "data_ip = {}\n",
    "data_ip[\"ip\"] = {\"ip\" : pc_i[\"ip\"]}\n",
    "disponible = requests.put(url_disponibilidad+ \"/normal\",data=json.dumps(data_ip), headers = pc_i[\"head\"],  verify=False )\n",
    "\n",
    "disponible.json()"
   ]
  },
  {
   "cell_type": "code",
   "execution_count": 12,
   "metadata": {},
   "outputs": [],
   "source": [
    "def ObtenerFichaREC(cli_i, Lista_PCs = PCs, ntry = 20):\n",
    "    \"\"\"\n",
    "    Se realiza todo el flujo de consulta para la obtención de fichas \n",
    "    \"\"\"\n",
    "    ntry -= 1 \n",
    "    \n",
    "    if ntry > 0 : \n",
    "        try :\n",
    "            pc_i = get_cookies(np.random.choice(Lista_PCs,1)[0])\n",
    "            time.sleep(np.random.randint(0,5))\n",
    "            captcha_i = ResolveCaptcha()\n",
    "            cli_i[\"ip\"] = {\"ip\": pc_i[0][\"ip\"] }\n",
    "            cli_i[\"cookie\"] = pc_i[1][\"cookie\"]\n",
    "            cli_i[\"recaptcha\"] = captcha_i\n",
    "            respuesta_i = requests.post(url_fichas, cli_i,  verify=False )\n",
    "        except Exception as exc: \n",
    "            print(\"Reinter por fallo en el request\", exc)\n",
    "            time.sleep(np.random.randint(1,5))\n",
    "\n",
    "        if respuesta_i.ok :\n",
    "            salida = respuesta_i.json()[\"respuesta\"]\n",
    "\n",
    "            oficina_i = oficinasDF.loc[ oficinasDF.id == salida[\"oficina\"], \"nombre\"].values[0]\n",
    "\n",
    "            url_i = \"http://127.0.0.1:8000/fichasCNS/generarFicha?nro_ficha={nro_ficha}&fecha_atencion={fecha_atencion}&hora_aproximada={hora_aproximada}&cubiculo={cubiculo}&persona={persona}&oficina={oficina}&codigo={codigo}\".format(\n",
    "                nro_ficha     = salida[\"numero_atencion\"]\n",
    "                ,fecha_atencion   = pd.to_datetime(salida[\"fecha\"]).strftime(\"%d/%m/%Y\")\n",
    "                ,hora_aproximada    = salida[\"hora_aproximada\"]\n",
    "                ,cubiculo  = salida[\"cubiculo\"]\n",
    "                ,persona  = salida[\"persona\"]\n",
    "                ,oficina = oficina_i \n",
    "                ,codigo = salida[\"codigo\"])\n",
    "            print(url_i)\n",
    "        #    URL.append(url_i)\n",
    "            print(salida[\"persona\"],salida[\"hora_aproximada\"], \"\\n\" )\n",
    "        else : \n",
    "            print(\"Reintentos restantes {}\".format(ntry), cli_i)\n",
    "            cli_i , respuesta_i = ObtenerFichaREC(cli_i , ntry = ntry)\n",
    "            \n",
    "        return cli_i, respuesta_i \n",
    "    else : \n",
    "        print(\"Se agotaron la cantidad de reintentos\")\n",
    "        return cli_i, respuesta_i"
   ]
  },
  {
   "cell_type": "markdown",
   "metadata": {},
   "source": [
    "# Preparando los diccionarios de datos "
   ]
  },
  {
   "cell_type": "code",
   "execution_count": 13,
   "metadata": {},
   "outputs": [
    {
     "data": {
      "text/plain": [
       "(3, 17)"
      ]
     },
     "execution_count": 13,
     "metadata": {},
     "output_type": "execute_result"
    }
   ],
   "source": [
    "fecha_i = '20210804'\n",
    "\n",
    "fecha_dt = pd.to_datetime(fecha_i, format= \"%Y%m%d\")\n",
    "\n",
    "fecha_dt.strftime(\"%d/%m/%Y\")\n",
    "\n",
    "DF_PENDIENTES = pd.read_csv(\"{}.csv\".format(fecha_i))\n",
    "DF_PENDIENTES[\"cubiculo\"] = 0\n",
    "DF_PENDIENTES[\"atencion\" ] = fecha_dt.strftime(\"%d/%m/%Y\")\n",
    "DF_PENDIENTES[\"oficina\"] = \"1\"\n",
    "#DF_PENDIENTES[\"sexo\"] = \"\"\n",
    "#DF_PENDIENTES[\"estado_civil\"] = \"\"\n",
    "DF_PENDIENTES[\"direccion\"] = \"\"\n",
    "DF_PENDIENTES[\"email\"] = \"\"\n",
    "DF_PENDIENTES[\"tipo_atencion\"] = \"normal\"\n",
    "# DF_PENDIENTES[\"extension\"] = \"\" # Añadir el condicional de verificar si el campo está vacío \n",
    "DF_PENDIENTES[\"telefono\"] = \"\"\n",
    "DF_PENDIENTES = DF_PENDIENTES.fillna(\"\")\n",
    "DF_PENDIENTES.drop(\"contacto\",axis=1,inplace=True)\n",
    "#DF_PENDIENTES.drop(\"extencion\",axis=1,inplace=True)\n",
    "DF_PENDIENTES.shape"
   ]
  },
  {
   "cell_type": "code",
   "execution_count": 14,
   "metadata": {},
   "outputs": [
    {
     "data": {
      "text/html": [
       "<div>\n",
       "<style scoped>\n",
       "    .dataframe tbody tr th:only-of-type {\n",
       "        vertical-align: middle;\n",
       "    }\n",
       "\n",
       "    .dataframe tbody tr th {\n",
       "        vertical-align: top;\n",
       "    }\n",
       "\n",
       "    .dataframe thead th {\n",
       "        text-align: right;\n",
       "    }\n",
       "</style>\n",
       "<table border=\"1\" class=\"dataframe\">\n",
       "  <thead>\n",
       "    <tr style=\"text-align: right;\">\n",
       "      <th></th>\n",
       "      <th>ci</th>\n",
       "      <th>extension</th>\n",
       "      <th>emision</th>\n",
       "      <th>ap_paterno</th>\n",
       "      <th>ap_materno</th>\n",
       "      <th>nombre</th>\n",
       "      <th>fecha_nac</th>\n",
       "      <th>celular</th>\n",
       "      <th>estado_civil</th>\n",
       "      <th>sexo</th>\n",
       "      <th>cubiculo</th>\n",
       "      <th>atencion</th>\n",
       "      <th>oficina</th>\n",
       "      <th>direccion</th>\n",
       "      <th>email</th>\n",
       "      <th>tipo_atencion</th>\n",
       "      <th>telefono</th>\n",
       "    </tr>\n",
       "  </thead>\n",
       "  <tbody>\n",
       "    <tr>\n",
       "      <th>0</th>\n",
       "      <td>6140448</td>\n",
       "      <td></td>\n",
       "      <td>La Paz</td>\n",
       "      <td>RIVEROS</td>\n",
       "      <td>MONTAÑO</td>\n",
       "      <td>CARLOS</td>\n",
       "      <td>1999-03-02</td>\n",
       "      <td>76525031</td>\n",
       "      <td>Soltero</td>\n",
       "      <td>Masculino</td>\n",
       "      <td>0</td>\n",
       "      <td>04/08/2021</td>\n",
       "      <td>1</td>\n",
       "      <td></td>\n",
       "      <td></td>\n",
       "      <td>normal</td>\n",
       "      <td></td>\n",
       "    </tr>\n",
       "    <tr>\n",
       "      <th>1</th>\n",
       "      <td>4751201</td>\n",
       "      <td></td>\n",
       "      <td>La Paz</td>\n",
       "      <td>TAMBO</td>\n",
       "      <td>QUISPE</td>\n",
       "      <td>LIBERATO</td>\n",
       "      <td>1973-12-22</td>\n",
       "      <td>69790016</td>\n",
       "      <td>Casado</td>\n",
       "      <td>Masculino</td>\n",
       "      <td>0</td>\n",
       "      <td>04/08/2021</td>\n",
       "      <td>1</td>\n",
       "      <td></td>\n",
       "      <td></td>\n",
       "      <td>normal</td>\n",
       "      <td></td>\n",
       "    </tr>\n",
       "    <tr>\n",
       "      <th>2</th>\n",
       "      <td>9874910</td>\n",
       "      <td></td>\n",
       "      <td>La Paz</td>\n",
       "      <td>MEDRANO</td>\n",
       "      <td>TICONIPA</td>\n",
       "      <td>MIREYA</td>\n",
       "      <td>1993-10-23</td>\n",
       "      <td>73725896</td>\n",
       "      <td>Casado</td>\n",
       "      <td>Femenino</td>\n",
       "      <td>0</td>\n",
       "      <td>04/08/2021</td>\n",
       "      <td>1</td>\n",
       "      <td></td>\n",
       "      <td></td>\n",
       "      <td>normal</td>\n",
       "      <td></td>\n",
       "    </tr>\n",
       "  </tbody>\n",
       "</table>\n",
       "</div>"
      ],
      "text/plain": [
       "        ci extension emision ap_paterno ap_materno    nombre   fecha_nac  \\\n",
       "0  6140448            La Paz    RIVEROS    MONTAÑO    CARLOS  1999-03-02   \n",
       "1  4751201            La Paz      TAMBO     QUISPE  LIBERATO  1973-12-22   \n",
       "2  9874910            La Paz    MEDRANO   TICONIPA    MIREYA  1993-10-23   \n",
       "\n",
       "    celular estado_civil       sexo  cubiculo    atencion oficina direccion  \\\n",
       "0  76525031      Soltero  Masculino         0  04/08/2021       1             \n",
       "1  69790016       Casado  Masculino         0  04/08/2021       1             \n",
       "2  73725896       Casado  Femenino          0  04/08/2021       1             \n",
       "\n",
       "  email tipo_atencion telefono  \n",
       "0              normal           \n",
       "1              normal           \n",
       "2              normal           "
      ]
     },
     "execution_count": 14,
     "metadata": {},
     "output_type": "execute_result"
    }
   ],
   "source": [
    "DF_PENDIENTES.head()"
   ]
  },
  {
   "cell_type": "markdown",
   "metadata": {},
   "source": [
    "# Ejecución en paralelo"
   ]
  },
  {
   "cell_type": "code",
   "execution_count": 15,
   "metadata": {},
   "outputs": [],
   "source": [
    "DATOS = [data_i for data_i in DF_PENDIENTES.to_dict(orient=\"records\") ]"
   ]
  },
  {
   "cell_type": "code",
   "execution_count": 16,
   "metadata": {},
   "outputs": [],
   "source": [
    "TOTAL_RESPUESTAS = []\n",
    "URL = []"
   ]
  },
  {
   "cell_type": "markdown",
   "metadata": {},
   "source": [
    "Si todo funciona correctamente hasta aquí, procedemos con la consulta masiva\n",
    "# CONSULTA PARALELA MASIVA"
   ]
  },
  {
   "cell_type": "code",
   "execution_count": 17,
   "metadata": {
    "scrolled": false
   },
   "outputs": [
    {
     "name": "stderr",
     "output_type": "stream",
     "text": [
      "/home/mavino/anaconda3/envs/SEVIMAworkflow/lib/python3.6/site-packages/urllib3/connectionpool.py:988: InsecureRequestWarning: Unverified HTTPS request is being made to host 'cnslp.gob.bo'. Adding certificate verification is strongly advised. See: https://urllib3.readthedocs.io/en/latest/advanced-usage.html#ssl-warnings\n",
      "  InsecureRequestWarning,\n",
      "/home/mavino/anaconda3/envs/SEVIMAworkflow/lib/python3.6/site-packages/urllib3/connectionpool.py:988: InsecureRequestWarning: Unverified HTTPS request is being made to host 'cnslp.gob.bo'. Adding certificate verification is strongly advised. See: https://urllib3.readthedocs.io/en/latest/advanced-usage.html#ssl-warnings\n",
      "  InsecureRequestWarning,\n",
      "/home/mavino/anaconda3/envs/SEVIMAworkflow/lib/python3.6/site-packages/urllib3/connectionpool.py:988: InsecureRequestWarning: Unverified HTTPS request is being made to host 'cnslp.gob.bo'. Adding certificate verification is strongly advised. See: https://urllib3.readthedocs.io/en/latest/advanced-usage.html#ssl-warnings\n",
      "  InsecureRequestWarning,\n"
     ]
    },
    {
     "name": "stdout",
     "output_type": "stream",
     "text": [
      "Time taken captcha_i: 54.47155690193176\n"
     ]
    },
    {
     "name": "stderr",
     "output_type": "stream",
     "text": [
      "/home/mavino/anaconda3/envs/SEVIMAworkflow/lib/python3.6/site-packages/urllib3/connectionpool.py:988: InsecureRequestWarning: Unverified HTTPS request is being made to host 'cnslp.gob.bo'. Adding certificate verification is strongly advised. See: https://urllib3.readthedocs.io/en/latest/advanced-usage.html#ssl-warnings\n",
      "  InsecureRequestWarning,\n"
     ]
    },
    {
     "name": "stdout",
     "output_type": "stream",
     "text": [
      "http://127.0.0.1:8000/fichasCNS/generarFicha?nro_ficha=3&fecha_atencion=04/08/2021&hora_aproximada=08:36&cubiculo=Modulo 7&persona=MIREYA MEDRANO TICONIPA&oficina=Regional La Paz&codigo=fZyzl1\n",
      "MIREYA MEDRANO TICONIPA 08:36 \n",
      "\n",
      "9874910 RESULTADO ({'ci': 9874910, 'extension': '', 'emision': 'La Paz', 'ap_paterno': 'MEDRANO', 'ap_materno': 'TICONIPA', 'nombre': 'MIREYA', 'fecha_nac': '1993-10-23', 'celular': 73725896, 'estado_civil': 'Casado', 'sexo': 'Femenino ', 'cubiculo': 0, 'atencion': '04/08/2021', 'oficina': '1', 'direccion': '', 'email': '', 'tipo_atencion': 'normal', 'telefono': '', 'ip': {'ip': '190.129.216.54'}, 'cookie': 'o7UjoQuBEHWarhVLqJxC1vEMgl66WQ', 'recaptcha': '03AGdBq27fjfG3Ni-rCMXZGleel6pBYCERlpsPCgHhXruYlPAxTdKT8wDugMOdD2L9cZgZyZFVVUblMeH0nlBScrUBALOD2hAV1KmcmWV7hj1YOU5D7DMkieojpA261e407cmESFMFI5kPO01BP1S9Vqex7KcAzL4hw280BEeDfJ2GVRV6xqiV6zwGAwxNV3WHBO4ycBsWMm0dsvvNcI0f6FNMNEf5vBkbfpW1-SzVUDox3SVQAd0nNTBphJ3XVxiOiPumLEdjBXI9w7WlNVu_44vAQfnR1SJkAyJxZmBRv_JONTgSD3neGiP7qZFEl7-AeiUTKtAouPDOPKj_ClSLVq4y5OImbTDueS3Xt_KLQeVBIHlVG5UQCA-3We1fMpQ596t8fdWmJGv4hjHRpVOExEbzlHus5WyIWqb7QTuuc5NFKzS32SbGVXvc0RgxoIyrmukbUYCCYNqAPfTJC_LUoRcJ0BdJJbTMxahPJ910vV6LTnoaiYPUGkoDXh10T5znYFwC6HLSJ1sokOVjVfx_rDP06rGompob9g'}, <Response [200]>) \n",
      "Time taken captcha_i: 63.75991916656494\n"
     ]
    },
    {
     "name": "stderr",
     "output_type": "stream",
     "text": [
      "/home/mavino/anaconda3/envs/SEVIMAworkflow/lib/python3.6/site-packages/urllib3/connectionpool.py:988: InsecureRequestWarning: Unverified HTTPS request is being made to host 'cnslp.gob.bo'. Adding certificate verification is strongly advised. See: https://urllib3.readthedocs.io/en/latest/advanced-usage.html#ssl-warnings\n",
      "  InsecureRequestWarning,\n"
     ]
    },
    {
     "name": "stdout",
     "output_type": "stream",
     "text": [
      "http://127.0.0.1:8000/fichasCNS/generarFicha?nro_ficha=3&fecha_atencion=04/08/2021&hora_aproximada=08:36&cubiculo=Modulo 8&persona=CARLOS ANDRES RIVEROS MONTAÑO&oficina=Regional La Paz&codigo=OF9NOw\n",
      "CARLOS ANDRES RIVEROS MONTAÑO 08:36 \n",
      "\n",
      "6140448 RESULTADO ({'ci': 6140448, 'extension': '', 'emision': 'La Paz', 'ap_paterno': 'RIVEROS', 'ap_materno': 'MONTAÑO', 'nombre': 'CARLOS', 'fecha_nac': '1999-03-02', 'celular': 76525031, 'estado_civil': 'Soltero', 'sexo': 'Masculino', 'cubiculo': 0, 'atencion': '04/08/2021', 'oficina': '1', 'direccion': '', 'email': '', 'tipo_atencion': 'normal', 'telefono': '', 'ip': {'ip': '161.22.188.160'}, 'cookie': 'e2rEYvgAt1lwxbXE8HGpGsL48lI3c1', 'recaptcha': '03AGdBq26KVUjdIO4azt3ziUz5zNk3TdlppNiyxa7wyONTNMMUVTrOhbjyNovdf5p-ZWtHJg07LwJT-KdhSgvVqEtszc2e-oAUBcJnBmEsWzo3q5qixnUYI8AnrLWdqHuDYII0PL8NBgVOw-5ulbU4wIpYeXvqDHxZNXvDpGIiFBfEYEJpdqSzGOChz9mCWTkWR4O9waxNVSMMqAy83aVNNbtgwLvAnYPFFyEVqmkEfLFnInWkpBJc-Nt6G9Oh1QivI0pP-fep7DqCBeiHPlt0hEKaMn_gWIL5ziYIcdCDW5RbR4brRL8GF6aSxbLlZwSHlGy5LY_wnZxYaaJ40ZPev-nuupTaYBGzwFTNi9OZGvqudJoKrehP7ViwMuFV3lHZN81HGtK_jAD2fXhODl3QorW0OYxdIQOLN9KgbSgtZv2PCHLnBIoW9PxwoAlF80Q4Xio59mDlZTMdkd9qt-cFYKnrGJC18ssdlwpz3BK5NkBfWHTLHTkbDJ-jsSAnMZx8jRh_XNJVXG6N'}, <Response [200]>) \n",
      "Time taken captcha_i: 90.64073705673218\n"
     ]
    },
    {
     "name": "stderr",
     "output_type": "stream",
     "text": [
      "/home/mavino/anaconda3/envs/SEVIMAworkflow/lib/python3.6/site-packages/urllib3/connectionpool.py:988: InsecureRequestWarning: Unverified HTTPS request is being made to host 'cnslp.gob.bo'. Adding certificate verification is strongly advised. See: https://urllib3.readthedocs.io/en/latest/advanced-usage.html#ssl-warnings\n",
      "  InsecureRequestWarning,\n"
     ]
    },
    {
     "name": "stdout",
     "output_type": "stream",
     "text": [
      "http://127.0.0.1:8000/fichasCNS/generarFicha?nro_ficha=4&fecha_atencion=04/08/2021&hora_aproximada=08:48&cubiculo=Modulo 1&persona=LIBERATO TAMBO QUISPE&oficina=Regional La Paz&codigo=EoDjqu\n",
      "LIBERATO TAMBO QUISPE 08:48 \n",
      "\n",
      "4751201 RESULTADO ({'ci': 4751201, 'extension': '', 'emision': 'La Paz', 'ap_paterno': 'TAMBO', 'ap_materno': 'QUISPE', 'nombre': 'LIBERATO', 'fecha_nac': '1973-12-22', 'celular': 69790016, 'estado_civil': 'Casado', 'sexo': 'Masculino', 'cubiculo': 0, 'atencion': '04/08/2021', 'oficina': '1', 'direccion': '', 'email': '', 'tipo_atencion': 'normal', 'telefono': '', 'ip': {'ip': '190.129.18.238'}, 'cookie': 'j3auONryuWgVpaMznJfAGT9uhaMVBp', 'recaptcha': '03AGdBq27ZEIsSC7JRzrXfD6R2XNtNI4r5sS6G41aqo-7mqQhDhTtON4vgWVQnNJnIZcDAmGEq1GL3iJFeR6KAYhhWrJwoNasuuf_zELd1G9D16tNJuZN0zDqdih2x4mYKahdKR9-8l46qr6LVJ00CTzPFu4_C6lWgxkFsFuLYIsrS-7vnmGmtxHfvCV-jH2J1Ojf6b-YWqu5DSwqqFunvntunVe5vCoQNyvpzb9uZ6ApznC90NzHkiI4Pv72DNnh06_yoNmBgLO4pnVQNZ4LKnUrAXGldE1_wrBmDzAK5SiPd1mfR4IhxPQbkta4KVA-oG1KRqzfzV0NWAxkBlEJRhEa3z2vnpLgEQR7yJiW4JK77LNPyKEO0NQR8zoHaUt0GkFLxLz-ljOc8hcm84gdQ-w_egCsoPRpzgYbLd9X8lJ0bH9NyG5qJMzTgXCs9TlKmvxrJRZDJUQUn_1y6H-p1_SSVm_ZifDN_K6tVJGKYKqqYOEIPx9FcnHWohaiCzQkMBW2iMa8FBA_eVi0JIkpFoEWCQXERlaa4hg'}, <Response [200]>) \n",
      "Total Ejecución FICHAS : 98.81430149078369\n"
     ]
    }
   ],
   "source": [
    "start = time.time()\n",
    "processes = []\n",
    "with ThreadPoolExecutor(max_workers=25) as executor:\n",
    "    RESULTADOS_FINALES = {executor.submit(ObtenerFichaREC, cli_i) : cli_i for cli_i in DATOS}\n",
    "    \n",
    "    for ficha_i in as_completed(RESULTADOS_FINALES):\n",
    "            url = RESULTADOS_FINALES[ficha_i]\n",
    "            try:\n",
    "                data = ficha_i.result()\n",
    "            except Exception as exc:\n",
    "                print('{} EXCEPTION {}'.format(url[\"ci\"], exc))\n",
    "            else:\n",
    "                print('{} RESULTADO {} '.format(url[\"ci\"], data))    \n",
    "\n",
    "print(f'Total Ejecución FICHAS : {time.time() - start}')"
   ]
  },
  {
   "cell_type": "code",
   "execution_count": 18,
   "metadata": {},
   "outputs": [],
   "source": [
    "ronda_i = [ A for A in as_completed(RESULTADOS_FINALES)]"
   ]
  },
  {
   "cell_type": "code",
   "execution_count": 19,
   "metadata": {},
   "outputs": [
    {
     "data": {
      "text/plain": [
       "[<Future at 0x7f2fc15fb2e8 state=finished returned tuple>,\n",
       " <Future at 0x7f2fc175b7b8 state=finished returned tuple>,\n",
       " <Future at 0x7f2fc15fbba8 state=finished returned tuple>]"
      ]
     },
     "execution_count": 19,
     "metadata": {},
     "output_type": "execute_result"
    }
   ],
   "source": [
    "ronda_i"
   ]
  },
  {
   "cell_type": "code",
   "execution_count": 20,
   "metadata": {},
   "outputs": [
    {
     "data": {
      "text/plain": [
       "[<Response [200]>, <Response [200]>, <Response [200]>]"
      ]
     },
     "execution_count": 20,
     "metadata": {},
     "output_type": "execute_result"
    }
   ],
   "source": [
    "[i.result()[1] for i in ronda_i]"
   ]
  },
  {
   "cell_type": "code",
   "execution_count": 21,
   "metadata": {},
   "outputs": [],
   "source": [
    "URLS = []"
   ]
  },
  {
   "cell_type": "code",
   "execution_count": 22,
   "metadata": {
    "scrolled": false
   },
   "outputs": [
    {
     "name": "stdout",
     "output_type": "stream",
     "text": [
      "http://127.0.0.1:8000/fichasCNS/generarFicha?nro_ficha=3&fecha_atencion=04/08/2021&hora_aproximada=08:36&cubiculo=Modulo 8&persona=CARLOS ANDRES RIVEROS MONTAÑO&oficina=Regional La Paz&codigo=OF9NOw\n",
      "http://127.0.0.1:8000/fichasCNS/generarFicha?nro_ficha=3&fecha_atencion=04/08/2021&hora_aproximada=08:36&cubiculo=Modulo 7&persona=MIREYA MEDRANO TICONIPA&oficina=Regional La Paz&codigo=fZyzl1\n",
      "http://127.0.0.1:8000/fichasCNS/generarFicha?nro_ficha=4&fecha_atencion=04/08/2021&hora_aproximada=08:48&cubiculo=Modulo 1&persona=LIBERATO TAMBO QUISPE&oficina=Regional La Paz&codigo=EoDjqu\n"
     ]
    }
   ],
   "source": [
    "for i in ronda_i:\n",
    "    if i.result()[1].ok:\n",
    "        salida = i.result()[1].json()[\"respuesta\"]\n",
    "\n",
    "        oficina_i = oficinasDF.loc[ oficinasDF.id == salida[\"oficina\"], \"nombre\"].values[0]\n",
    "\n",
    "        url_i = \"http://127.0.0.1:8000/fichasCNS/generarFicha?nro_ficha={nro_ficha}&fecha_atencion={fecha_atencion}&hora_aproximada={hora_aproximada}&cubiculo={cubiculo}&persona={persona}&oficina={oficina}&codigo={codigo}\".format(\n",
    "            nro_ficha     = salida[\"numero_atencion\"]\n",
    "            ,fecha_atencion   = pd.to_datetime(salida[\"fecha\"]).strftime(\"%d/%m/%Y\")\n",
    "            ,hora_aproximada    = salida[\"hora_aproximada\"]\n",
    "            ,cubiculo  = salida[\"cubiculo\"]\n",
    "            ,persona  = salida[\"persona\"]\n",
    "            ,oficina = oficina_i \n",
    "            ,codigo = salida[\"codigo\"])\n",
    "        print(url_i)\n",
    "        URLS.append(url_i)"
   ]
  },
  {
   "cell_type": "code",
   "execution_count": 23,
   "metadata": {},
   "outputs": [
    {
     "data": {
      "text/plain": [
       "3"
      ]
     },
     "execution_count": 23,
     "metadata": {},
     "output_type": "execute_result"
    }
   ],
   "source": [
    "URLS.sort()\n",
    "len(URLS)"
   ]
  },
  {
   "cell_type": "markdown",
   "metadata": {},
   "source": [
    "# Obtener PDF basado en el QR "
   ]
  },
  {
   "cell_type": "code",
   "execution_count": 24,
   "metadata": {},
   "outputs": [],
   "source": [
    "import os, shutil"
   ]
  },
  {
   "cell_type": "code",
   "execution_count": 25,
   "metadata": {},
   "outputs": [],
   "source": [
    "\n",
    "for filename in os.listdir(download_directory):\n",
    "    file_path = os.path.join(download_directory, filename)\n",
    "    try:\n",
    "        if os.path.isfile(file_path) or os.path.islink(file_path):\n",
    "            os.unlink(file_path)\n",
    "        elif os.path.isdir(file_path):\n",
    "            shutil.rmtree(file_path)\n",
    "    except Exception as e:\n",
    "        print('Failed to delete %s. Reason: %s' % (file_path, e))"
   ]
  },
  {
   "cell_type": "code",
   "execution_count": 26,
   "metadata": {},
   "outputs": [],
   "source": [
    "for i in URLS:\n",
    "    navegador.get(i)\n",
    "    time.sleep(1)"
   ]
  },
  {
   "cell_type": "code",
   "execution_count": 27,
   "metadata": {},
   "outputs": [
    {
     "data": {
      "text/plain": [
       "3"
      ]
     },
     "execution_count": 27,
     "metadata": {},
     "output_type": "execute_result"
    }
   ],
   "source": [
    "len(URLS)"
   ]
  },
  {
   "cell_type": "code",
   "execution_count": 28,
   "metadata": {},
   "outputs": [],
   "source": [
    "# Renombramiento automático"
   ]
  },
  {
   "cell_type": "code",
   "execution_count": 29,
   "metadata": {
    "scrolled": true
   },
   "outputs": [
    {
     "data": {
      "text/plain": [
       "<Response [200]>"
      ]
     },
     "execution_count": 29,
     "metadata": {},
     "output_type": "execute_result"
    }
   ],
   "source": [
    "requests.get(\"http://127.0.0.1:8000/fichasCNS/rename\")"
   ]
  },
  {
   "cell_type": "code",
   "execution_count": 30,
   "metadata": {},
   "outputs": [],
   "source": [
    "try: \n",
    "    os.rename(  os.path.join(download_directory, \"TOTAL.pdf\") , \n",
    "                os.path.join(download_directory, \"TOTAL_{fec}.pdf\".format(fec = fecha_i)) )\n",
    "except : \n",
    "    print(\"Algo malio sal ...\")"
   ]
  },
  {
   "cell_type": "code",
   "execution_count": 31,
   "metadata": {},
   "outputs": [],
   "source": [
    "navegador.close()"
   ]
  },
  {
   "cell_type": "markdown",
   "metadata": {},
   "source": [
    "# GENERACION DEL ARCHIVO DE LINKS "
   ]
  },
  {
   "cell_type": "code",
   "execution_count": 32,
   "metadata": {},
   "outputs": [
    {
     "data": {
      "text/plain": [
       "'20210804'"
      ]
     },
     "execution_count": 32,
     "metadata": {},
     "output_type": "execute_result"
    }
   ],
   "source": [
    "fecha_i"
   ]
  },
  {
   "cell_type": "code",
   "execution_count": 33,
   "metadata": {},
   "outputs": [
    {
     "name": "stdout",
     "output_type": "stream",
     "text": [
      "Se genero el archivo exitosamente! \n"
     ]
    }
   ],
   "source": [
    "DF_PENDIENTES = pd.read_csv(\"{}.csv\".format(fecha_i))\n",
    "\n",
    "# B = open(\"E:\\\\sevima\\\\SEVIMAworkflow-master\\\\fichasCNS\\\\FICHAS\\\\\"+  \"LinksMensajes_{}.html\".format(fecha_i),\"w\") # Windows \n",
    "B = open(\"/media/F/sevima/SEVIMAworkflow-master/fichasCNS/FICHAS/\"+  \"LinksMensajes_{}.html\".format(fecha_i),\"w\")\n",
    "for data_i in DF_PENDIENTES.to_dict(orient=\"records\") :\n",
    "    # print(\"https://wa.me/591{}?text=Buen+dia%2C+adjunta+su+ficha.+Le+recordamos+estar+15+minutos+antes+de+su+hora+de+atenci%C3%B3n+para+no+perder+su+turno.\".format(data_i[\"celular\"]))\n",
    "#    B.writelines('<h1> <a href=\"https://wa.me/591{}?text=Muy%20buenas%20noches%2C%20lamento%20comunicarle%20que%20el%20sistema%20de%20la%20Caja%20Nacional%20de%20Salud%20parece%20estar%20en%20mantenimiento%20por%20lo%20tanto%20no%20se%20pueden%20sacar%20fichas.%20Esta%20eventualidad%20escapa%20de%20mis%20manos%20para%20poder%20brindarle%20el%20servicio.%20Espero%20que%20ma%C3%B1ana%20se%20habilite%20otra%20vez%20el%20sistema%20y%20en%20funci%C3%B3n%20a%20eso%20yo%20le%20comunico%20las%20novedades%2C%20otra%20vez%20mil%20disculpas.%20\"  target=\"_blank\" > {} {} {} {} </a> </h1> <br>'.format(data_i[\"celular\"],data_i[\"celular\"], data_i[\"nombre\"], data_i[\"ap_paterno\"], data_i[\"contacto\"] ))\n",
    "    B.writelines('<h1> <a href=\"https://wa.me/591{}?text=Buenas+tardes%2C+adjunta+su+ficha.+Le+recordamos+estar+15+minutos+antes+de+su+hora+de+atenci%C3%B3n+para+no+perder+su+turno.\"  target=\"_blank\" > {} {} {} {} </a> </h1> <br>'.format(data_i[\"celular\"],data_i[\"celular\"], data_i[\"nombre\"], data_i[\"ap_paterno\"], data_i[\"contacto\"] ))\n",
    "print(\"Se genero el archivo exitosamente! \")\n",
    "B.close()"
   ]
  },
  {
   "cell_type": "code",
   "execution_count": null,
   "metadata": {},
   "outputs": [],
   "source": []
  },
  {
   "cell_type": "code",
   "execution_count": 34,
   "metadata": {},
   "outputs": [
    {
     "data": {
      "text/plain": [
       "0"
      ]
     },
     "execution_count": 34,
     "metadata": {},
     "output_type": "execute_result"
    }
   ],
   "source": [
    "# Generando Archivo de compresión\n",
    "os.system(\"cd {down_dir} && rar a FICHAS_{fec}.rar *\".format(fec = fecha_i, down_dir = download_directory))"
   ]
  },
  {
   "cell_type": "code",
   "execution_count": null,
   "metadata": {},
   "outputs": [],
   "source": []
  },
  {
   "cell_type": "markdown",
   "metadata": {},
   "source": [
    "# Guardando las respuetas "
   ]
  },
  {
   "cell_type": "code",
   "execution_count": 35,
   "metadata": {},
   "outputs": [],
   "source": [
    "import pickle\n",
    "pickle_file = open('respuestas{}.pickle'.format(fecha_i), 'wb')\n",
    "pickle.dump([i.result() for i in ronda_i], pickle_file)\n",
    "pickle_file.close()"
   ]
  },
  {
   "cell_type": "code",
   "execution_count": null,
   "metadata": {},
   "outputs": [],
   "source": []
  },
  {
   "cell_type": "code",
   "execution_count": null,
   "metadata": {},
   "outputs": [],
   "source": []
  }
 ],
 "metadata": {
  "kernelspec": {
   "display_name": "Python 3",
   "language": "python",
   "name": "python3"
  },
  "language_info": {
   "codemirror_mode": {
    "name": "ipython",
    "version": 3
   },
   "file_extension": ".py",
   "mimetype": "text/x-python",
   "name": "python",
   "nbconvert_exporter": "python",
   "pygments_lexer": "ipython3",
   "version": "3.6.12"
  }
 },
 "nbformat": 4,
 "nbformat_minor": 4
}

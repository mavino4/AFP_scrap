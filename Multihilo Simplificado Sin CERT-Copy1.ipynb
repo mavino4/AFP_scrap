{
 "cells": [
  {
   "cell_type": "code",
   "execution_count": 77,
   "metadata": {},
   "outputs": [],
   "source": [
    "import requests\n",
    "import ipaddress\n",
    "import pandas as pd\n",
    "import numpy as np \n",
    "from concurrent.futures import ThreadPoolExecutor, as_completed\n",
    "from anticaptchaofficial.recaptchav2proxyless import *\n",
    "import time\n",
    "import os \n",
    "\n",
    "\n",
    "csbp = \"https://noafiliacion.csbp.com.bo/\"\n",
    "cns = \"https://www.cns.gob.bo/Servicios/NoAfiliacion\"\n",
    "cps = \"https://afiliado.cps.org.bo/\"\n",
    "\n",
    "download_directory = \"/home/mavino/Descargas\"\n",
    "# Generando los elementos \n",
    "from selenium import webdriver\n",
    "\n",
    "profile = webdriver.FirefoxProfile()\n",
    "\n",
    "profile.set_preference(\"browser.download.dir\", download_directory)\n",
    "profile.set_preference(\"browser.helperApps.neverAsk.saveToDisk\", \"application/x-gzip,application/pdf,document/pdf\")\n",
    "\n",
    "profile.set_preference(\"browser.link.open_newwindow\", 3 )\n",
    "profile.set_preference(\"browser.link.open_newwindow.restriction\", 0 )\n",
    "\n",
    " "
   ]
  },
  {
   "cell_type": "code",
   "execution_count": 81,
   "metadata": {
    "scrolled": true
   },
   "outputs": [],
   "source": [
    "\n",
    "navegador = webdriver.Firefox(profile)\n",
    "\n",
    "# Recolección de datos \n",
    "\n",
    "# CSBP\n",
    "driver = navegador.get(csbp)\n",
    "window_csbp = navegador.window_handles[0]\n",
    "\n",
    "\n",
    "\n",
    "navegador.execute_script(\"window.open('about:blank', '_blank');\")\n",
    "window_cns = navegador.window_handles[1]\n",
    "navegador.switch_to.window(window_cns)\n",
    "navegador.get(cns)\n",
    "\n",
    "\n",
    "navegador.execute_script(\"window.open('about:blank', '_blank');\")\n",
    "window_cps = navegador.window_handles[2]\n",
    "navegador.switch_to.window(window_cps)\n",
    "navegador.get(cps)\n",
    "\n"
   ]
  },
  {
   "cell_type": "code",
   "execution_count": 84,
   "metadata": {},
   "outputs": [
    {
     "ename": "AttributeError",
     "evalue": "'WebDriver' object has no attribute 'find_by_Xpath'",
     "output_type": "error",
     "traceback": [
      "\u001b[0;31m---------------------------------------------------------------------------\u001b[0m",
      "\u001b[0;31mAttributeError\u001b[0m                            Traceback (most recent call last)",
      "\u001b[0;32m<ipython-input-84-6b82ebe3adc0>\u001b[0m in \u001b[0;36m<module>\u001b[0;34m\u001b[0m\n\u001b[0;32m----> 1\u001b[0;31m \u001b[0mboton\u001b[0m \u001b[0;34m=\u001b[0m \u001b[0mnavegador\u001b[0m\u001b[0;34m.\u001b[0m\u001b[0mfind_by_Xpath\u001b[0m\u001b[0;34m(\u001b[0m\u001b[0;34m\"/html/body/main/div/form/button\"\u001b[0m\u001b[0;34m)\u001b[0m\u001b[0;34m\u001b[0m\u001b[0;34m\u001b[0m\u001b[0m\n\u001b[0m",
      "\u001b[0;31mAttributeError\u001b[0m: 'WebDriver' object has no attribute 'find_by_Xpath'"
     ]
    }
   ],
   "source": [
    "boton = navegador.find_by_Xpath(\"/html/body/main/div/form/button\")"
   ]
  },
  {
   "cell_type": "code",
   "execution_count": 79,
   "metadata": {},
   "outputs": [
    {
     "ename": "WebDriverException",
     "evalue": "Message: Failed to decode response from marionette\n",
     "output_type": "error",
     "traceback": [
      "\u001b[0;31m---------------------------------------------------------------------------\u001b[0m",
      "\u001b[0;31mWebDriverException\u001b[0m                        Traceback (most recent call last)",
      "\u001b[0;32m<ipython-input-79-d1d032145698>\u001b[0m in \u001b[0;36m<module>\u001b[0;34m\u001b[0m\n\u001b[0;32m----> 1\u001b[0;31m \u001b[0mnavegador\u001b[0m\u001b[0;34m.\u001b[0m\u001b[0mwindow_handles\u001b[0m\u001b[0;34m\u001b[0m\u001b[0;34m\u001b[0m\u001b[0m\n\u001b[0m",
      "\u001b[0;32m~/anaconda3/envs/SEVIMAworkflow/lib/python3.6/site-packages/selenium/webdriver/remote/webdriver.py\u001b[0m in \u001b[0;36mwindow_handles\u001b[0;34m(self)\u001b[0m\n\u001b[1;32m    722\u001b[0m         \"\"\"\n\u001b[1;32m    723\u001b[0m         \u001b[0;32mif\u001b[0m \u001b[0mself\u001b[0m\u001b[0;34m.\u001b[0m\u001b[0mw3c\u001b[0m\u001b[0;34m:\u001b[0m\u001b[0;34m\u001b[0m\u001b[0;34m\u001b[0m\u001b[0m\n\u001b[0;32m--> 724\u001b[0;31m             \u001b[0;32mreturn\u001b[0m \u001b[0mself\u001b[0m\u001b[0;34m.\u001b[0m\u001b[0mexecute\u001b[0m\u001b[0;34m(\u001b[0m\u001b[0mCommand\u001b[0m\u001b[0;34m.\u001b[0m\u001b[0mW3C_GET_WINDOW_HANDLES\u001b[0m\u001b[0;34m)\u001b[0m\u001b[0;34m[\u001b[0m\u001b[0;34m'value'\u001b[0m\u001b[0;34m]\u001b[0m\u001b[0;34m\u001b[0m\u001b[0;34m\u001b[0m\u001b[0m\n\u001b[0m\u001b[1;32m    725\u001b[0m         \u001b[0;32melse\u001b[0m\u001b[0;34m:\u001b[0m\u001b[0;34m\u001b[0m\u001b[0;34m\u001b[0m\u001b[0m\n\u001b[1;32m    726\u001b[0m             \u001b[0;32mreturn\u001b[0m \u001b[0mself\u001b[0m\u001b[0;34m.\u001b[0m\u001b[0mexecute\u001b[0m\u001b[0;34m(\u001b[0m\u001b[0mCommand\u001b[0m\u001b[0;34m.\u001b[0m\u001b[0mGET_WINDOW_HANDLES\u001b[0m\u001b[0;34m)\u001b[0m\u001b[0;34m[\u001b[0m\u001b[0;34m'value'\u001b[0m\u001b[0;34m]\u001b[0m\u001b[0;34m\u001b[0m\u001b[0;34m\u001b[0m\u001b[0m\n",
      "\u001b[0;32m~/anaconda3/envs/SEVIMAworkflow/lib/python3.6/site-packages/selenium/webdriver/remote/webdriver.py\u001b[0m in \u001b[0;36mexecute\u001b[0;34m(self, driver_command, params)\u001b[0m\n\u001b[1;32m    319\u001b[0m         \u001b[0mresponse\u001b[0m \u001b[0;34m=\u001b[0m \u001b[0mself\u001b[0m\u001b[0;34m.\u001b[0m\u001b[0mcommand_executor\u001b[0m\u001b[0;34m.\u001b[0m\u001b[0mexecute\u001b[0m\u001b[0;34m(\u001b[0m\u001b[0mdriver_command\u001b[0m\u001b[0;34m,\u001b[0m \u001b[0mparams\u001b[0m\u001b[0;34m)\u001b[0m\u001b[0;34m\u001b[0m\u001b[0;34m\u001b[0m\u001b[0m\n\u001b[1;32m    320\u001b[0m         \u001b[0;32mif\u001b[0m \u001b[0mresponse\u001b[0m\u001b[0;34m:\u001b[0m\u001b[0;34m\u001b[0m\u001b[0;34m\u001b[0m\u001b[0m\n\u001b[0;32m--> 321\u001b[0;31m             \u001b[0mself\u001b[0m\u001b[0;34m.\u001b[0m\u001b[0merror_handler\u001b[0m\u001b[0;34m.\u001b[0m\u001b[0mcheck_response\u001b[0m\u001b[0;34m(\u001b[0m\u001b[0mresponse\u001b[0m\u001b[0;34m)\u001b[0m\u001b[0;34m\u001b[0m\u001b[0;34m\u001b[0m\u001b[0m\n\u001b[0m\u001b[1;32m    322\u001b[0m             response['value'] = self._unwrap_value(\n\u001b[1;32m    323\u001b[0m                 response.get('value', None))\n",
      "\u001b[0;32m~/anaconda3/envs/SEVIMAworkflow/lib/python3.6/site-packages/selenium/webdriver/remote/errorhandler.py\u001b[0m in \u001b[0;36mcheck_response\u001b[0;34m(self, response)\u001b[0m\n\u001b[1;32m    240\u001b[0m                 \u001b[0malert_text\u001b[0m \u001b[0;34m=\u001b[0m \u001b[0mvalue\u001b[0m\u001b[0;34m[\u001b[0m\u001b[0;34m'alert'\u001b[0m\u001b[0;34m]\u001b[0m\u001b[0;34m.\u001b[0m\u001b[0mget\u001b[0m\u001b[0;34m(\u001b[0m\u001b[0;34m'text'\u001b[0m\u001b[0;34m)\u001b[0m\u001b[0;34m\u001b[0m\u001b[0;34m\u001b[0m\u001b[0m\n\u001b[1;32m    241\u001b[0m             \u001b[0;32mraise\u001b[0m \u001b[0mexception_class\u001b[0m\u001b[0;34m(\u001b[0m\u001b[0mmessage\u001b[0m\u001b[0;34m,\u001b[0m \u001b[0mscreen\u001b[0m\u001b[0;34m,\u001b[0m \u001b[0mstacktrace\u001b[0m\u001b[0;34m,\u001b[0m \u001b[0malert_text\u001b[0m\u001b[0;34m)\u001b[0m\u001b[0;34m\u001b[0m\u001b[0;34m\u001b[0m\u001b[0m\n\u001b[0;32m--> 242\u001b[0;31m         \u001b[0;32mraise\u001b[0m \u001b[0mexception_class\u001b[0m\u001b[0;34m(\u001b[0m\u001b[0mmessage\u001b[0m\u001b[0;34m,\u001b[0m \u001b[0mscreen\u001b[0m\u001b[0;34m,\u001b[0m \u001b[0mstacktrace\u001b[0m\u001b[0;34m)\u001b[0m\u001b[0;34m\u001b[0m\u001b[0;34m\u001b[0m\u001b[0m\n\u001b[0m\u001b[1;32m    243\u001b[0m \u001b[0;34m\u001b[0m\u001b[0m\n\u001b[1;32m    244\u001b[0m     \u001b[0;32mdef\u001b[0m \u001b[0m_value_or_default\u001b[0m\u001b[0;34m(\u001b[0m\u001b[0mself\u001b[0m\u001b[0;34m,\u001b[0m \u001b[0mobj\u001b[0m\u001b[0;34m,\u001b[0m \u001b[0mkey\u001b[0m\u001b[0;34m,\u001b[0m \u001b[0mdefault\u001b[0m\u001b[0;34m)\u001b[0m\u001b[0;34m:\u001b[0m\u001b[0;34m\u001b[0m\u001b[0;34m\u001b[0m\u001b[0m\n",
      "\u001b[0;31mWebDriverException\u001b[0m: Message: Failed to decode response from marionette\n"
     ]
    }
   ],
   "source": [
    "navegador.window_handles"
   ]
  },
  {
   "cell_type": "code",
   "execution_count": null,
   "metadata": {},
   "outputs": [],
   "source": []
  },
  {
   "cell_type": "code",
   "execution_count": 5,
   "metadata": {},
   "outputs": [
    {
     "data": {
      "text/plain": [
       "(7, 17)"
      ]
     },
     "execution_count": 5,
     "metadata": {},
     "output_type": "execute_result"
    }
   ],
   "source": [
    "fecha_i = '20210803'\n",
    "\n",
    "fecha_dt = pd.to_datetime(fecha_i, format= \"%Y%m%d\")\n",
    "\n",
    "fecha_dt.strftime(\"%d/%m/%Y\")\n",
    "\n",
    "DF_PENDIENTES = pd.read_csv(\"{}.csv\".format(fecha_i))\n",
    "DF_PENDIENTES[\"cubiculo\"] = 0\n",
    "DF_PENDIENTES[\"atencion\" ] = fecha_dt.strftime(\"%d/%m/%Y\")\n",
    "DF_PENDIENTES[\"oficina\"] = \"1\"\n",
    "#DF_PENDIENTES[\"sexo\"] = \"\"\n",
    "#DF_PENDIENTES[\"estado_civil\"] = \"\"\n",
    "DF_PENDIENTES[\"direccion\"] = \"\"\n",
    "DF_PENDIENTES[\"email\"] = \"\"\n",
    "DF_PENDIENTES[\"tipo_atencion\"] = \"normal\"\n",
    "# DF_PENDIENTES[\"extension\"] = \"\" # Añadir el condicional de verificar si el campo está vacío \n",
    "DF_PENDIENTES[\"telefono\"] = \"\"\n",
    "DF_PENDIENTES = DF_PENDIENTES.fillna(\"\")\n",
    "DF_PENDIENTES.drop(\"contacto\",axis=1,inplace=True)\n",
    "#DF_PENDIENTES.drop(\"extencion\",axis=1,inplace=True)\n",
    "DF_PENDIENTES.shape"
   ]
  },
  {
   "cell_type": "code",
   "execution_count": 6,
   "metadata": {},
   "outputs": [
    {
     "data": {
      "text/html": [
       "<div>\n",
       "<style scoped>\n",
       "    .dataframe tbody tr th:only-of-type {\n",
       "        vertical-align: middle;\n",
       "    }\n",
       "\n",
       "    .dataframe tbody tr th {\n",
       "        vertical-align: top;\n",
       "    }\n",
       "\n",
       "    .dataframe thead th {\n",
       "        text-align: right;\n",
       "    }\n",
       "</style>\n",
       "<table border=\"1\" class=\"dataframe\">\n",
       "  <thead>\n",
       "    <tr style=\"text-align: right;\">\n",
       "      <th></th>\n",
       "      <th>ci</th>\n",
       "      <th>extension</th>\n",
       "      <th>emision</th>\n",
       "      <th>ap_paterno</th>\n",
       "      <th>ap_materno</th>\n",
       "      <th>nombre</th>\n",
       "      <th>fecha_nac</th>\n",
       "      <th>celular</th>\n",
       "      <th>estado_civil</th>\n",
       "      <th>sexo</th>\n",
       "      <th>cubiculo</th>\n",
       "      <th>atencion</th>\n",
       "      <th>oficina</th>\n",
       "      <th>direccion</th>\n",
       "      <th>email</th>\n",
       "      <th>tipo_atencion</th>\n",
       "      <th>telefono</th>\n",
       "    </tr>\n",
       "  </thead>\n",
       "  <tbody>\n",
       "    <tr>\n",
       "      <th>0</th>\n",
       "      <td>13496856</td>\n",
       "      <td></td>\n",
       "      <td>La Paz</td>\n",
       "      <td>IBAÑEZ</td>\n",
       "      <td>YUJRA</td>\n",
       "      <td>VERONICA</td>\n",
       "      <td>1999-12-13</td>\n",
       "      <td>77789116</td>\n",
       "      <td>Soltero</td>\n",
       "      <td>Femenino</td>\n",
       "      <td>0</td>\n",
       "      <td>03/08/2021</td>\n",
       "      <td>1</td>\n",
       "      <td></td>\n",
       "      <td></td>\n",
       "      <td>normal</td>\n",
       "      <td></td>\n",
       "    </tr>\n",
       "    <tr>\n",
       "      <th>1</th>\n",
       "      <td>9081754</td>\n",
       "      <td></td>\n",
       "      <td>La Paz</td>\n",
       "      <td>CLAROS</td>\n",
       "      <td>SOLARES</td>\n",
       "      <td>JAVIER</td>\n",
       "      <td>2000-12-04</td>\n",
       "      <td>69823087</td>\n",
       "      <td>Soltero</td>\n",
       "      <td>Masculino</td>\n",
       "      <td>0</td>\n",
       "      <td>03/08/2021</td>\n",
       "      <td>1</td>\n",
       "      <td></td>\n",
       "      <td></td>\n",
       "      <td>normal</td>\n",
       "      <td></td>\n",
       "    </tr>\n",
       "    <tr>\n",
       "      <th>2</th>\n",
       "      <td>6005381</td>\n",
       "      <td></td>\n",
       "      <td>La Paz</td>\n",
       "      <td>QUISPE</td>\n",
       "      <td>CHOQUE</td>\n",
       "      <td>IRMA</td>\n",
       "      <td>1976-07-01</td>\n",
       "      <td>69724755</td>\n",
       "      <td>Casado</td>\n",
       "      <td>Femenino</td>\n",
       "      <td>0</td>\n",
       "      <td>03/08/2021</td>\n",
       "      <td>1</td>\n",
       "      <td></td>\n",
       "      <td></td>\n",
       "      <td>normal</td>\n",
       "      <td></td>\n",
       "    </tr>\n",
       "    <tr>\n",
       "      <th>3</th>\n",
       "      <td>8278278</td>\n",
       "      <td></td>\n",
       "      <td>La Paz</td>\n",
       "      <td>CUTILE</td>\n",
       "      <td>BALBOA</td>\n",
       "      <td>RITA</td>\n",
       "      <td>1989-05-22</td>\n",
       "      <td>68009216</td>\n",
       "      <td>Soltero</td>\n",
       "      <td>Femenino</td>\n",
       "      <td>0</td>\n",
       "      <td>03/08/2021</td>\n",
       "      <td>1</td>\n",
       "      <td></td>\n",
       "      <td></td>\n",
       "      <td>normal</td>\n",
       "      <td></td>\n",
       "    </tr>\n",
       "    <tr>\n",
       "      <th>4</th>\n",
       "      <td>669682</td>\n",
       "      <td></td>\n",
       "      <td>Oruro</td>\n",
       "      <td>ALCOCER</td>\n",
       "      <td>ANGULO</td>\n",
       "      <td>NESTOR</td>\n",
       "      <td>1954-09-07</td>\n",
       "      <td>77298904</td>\n",
       "      <td>Casado</td>\n",
       "      <td>Masculino</td>\n",
       "      <td>0</td>\n",
       "      <td>03/08/2021</td>\n",
       "      <td>1</td>\n",
       "      <td></td>\n",
       "      <td></td>\n",
       "      <td>normal</td>\n",
       "      <td></td>\n",
       "    </tr>\n",
       "  </tbody>\n",
       "</table>\n",
       "</div>"
      ],
      "text/plain": [
       "         ci extension emision ap_paterno ap_materno    nombre   fecha_nac  \\\n",
       "0  13496856            La Paz     IBAÑEZ      YUJRA  VERONICA  1999-12-13   \n",
       "1   9081754            La Paz     CLAROS    SOLARES    JAVIER  2000-12-04   \n",
       "2   6005381            La Paz     QUISPE     CHOQUE      IRMA  1976-07-01   \n",
       "3   8278278            La Paz     CUTILE     BALBOA      RITA  1989-05-22   \n",
       "4    669682             Oruro    ALCOCER     ANGULO    NESTOR  1954-09-07   \n",
       "\n",
       "    celular estado_civil       sexo  cubiculo    atencion oficina direccion  \\\n",
       "0  77789116      Soltero  Femenino          0  03/08/2021       1             \n",
       "1  69823087      Soltero  Masculino         0  03/08/2021       1             \n",
       "2  69724755       Casado  Femenino          0  03/08/2021       1             \n",
       "3  68009216      Soltero  Femenino          0  03/08/2021       1             \n",
       "4  77298904       Casado  Masculino         0  03/08/2021       1             \n",
       "\n",
       "  email tipo_atencion telefono  \n",
       "0              normal           \n",
       "1              normal           \n",
       "2              normal           \n",
       "3              normal           \n",
       "4              normal           "
      ]
     },
     "execution_count": 6,
     "metadata": {},
     "output_type": "execute_result"
    }
   ],
   "source": [
    "DF_PENDIENTES.head()"
   ]
  },
  {
   "cell_type": "markdown",
   "metadata": {},
   "source": [
    "# Ejecución en paralelo"
   ]
  },
  {
   "cell_type": "code",
   "execution_count": 7,
   "metadata": {},
   "outputs": [],
   "source": [
    "DATOS = [data_i for data_i in DF_PENDIENTES.to_dict(orient=\"records\") ]"
   ]
  },
  {
   "cell_type": "code",
   "execution_count": 10,
   "metadata": {},
   "outputs": [],
   "source": [
    "DATOS = DATOS[:-1]"
   ]
  },
  {
   "cell_type": "code",
   "execution_count": 11,
   "metadata": {},
   "outputs": [],
   "source": [
    "TOTAL_RESPUESTAS = []\n",
    "URL = []"
   ]
  },
  {
   "cell_type": "markdown",
   "metadata": {},
   "source": [
    "Si todo funciona correctamente hasta aquí, procedemos con la consulta masiva\n",
    "# CONSULTA PARALELA MASIVA"
   ]
  },
  {
   "cell_type": "code",
   "execution_count": 12,
   "metadata": {
    "scrolled": false
   },
   "outputs": [
    {
     "name": "stderr",
     "output_type": "stream",
     "text": [
      "/home/mavino/anaconda3/envs/SEVIMAworkflow/lib/python3.6/site-packages/urllib3/connectionpool.py:988: InsecureRequestWarning: Unverified HTTPS request is being made to host 'cnslp.gob.bo'. Adding certificate verification is strongly advised. See: https://urllib3.readthedocs.io/en/latest/advanced-usage.html#ssl-warnings\n",
      "  InsecureRequestWarning,\n",
      "/home/mavino/anaconda3/envs/SEVIMAworkflow/lib/python3.6/site-packages/urllib3/connectionpool.py:988: InsecureRequestWarning: Unverified HTTPS request is being made to host 'cnslp.gob.bo'. Adding certificate verification is strongly advised. See: https://urllib3.readthedocs.io/en/latest/advanced-usage.html#ssl-warnings\n",
      "  InsecureRequestWarning,\n",
      "/home/mavino/anaconda3/envs/SEVIMAworkflow/lib/python3.6/site-packages/urllib3/connectionpool.py:988: InsecureRequestWarning: Unverified HTTPS request is being made to host 'cnslp.gob.bo'. Adding certificate verification is strongly advised. See: https://urllib3.readthedocs.io/en/latest/advanced-usage.html#ssl-warnings\n",
      "  InsecureRequestWarning,\n",
      "/home/mavino/anaconda3/envs/SEVIMAworkflow/lib/python3.6/site-packages/urllib3/connectionpool.py:988: InsecureRequestWarning: Unverified HTTPS request is being made to host 'cnslp.gob.bo'. Adding certificate verification is strongly advised. See: https://urllib3.readthedocs.io/en/latest/advanced-usage.html#ssl-warnings\n",
      "  InsecureRequestWarning,\n",
      "/home/mavino/anaconda3/envs/SEVIMAworkflow/lib/python3.6/site-packages/urllib3/connectionpool.py:988: InsecureRequestWarning: Unverified HTTPS request is being made to host 'cnslp.gob.bo'. Adding certificate verification is strongly advised. See: https://urllib3.readthedocs.io/en/latest/advanced-usage.html#ssl-warnings\n",
      "  InsecureRequestWarning,\n",
      "/home/mavino/anaconda3/envs/SEVIMAworkflow/lib/python3.6/site-packages/urllib3/connectionpool.py:988: InsecureRequestWarning: Unverified HTTPS request is being made to host 'cnslp.gob.bo'. Adding certificate verification is strongly advised. See: https://urllib3.readthedocs.io/en/latest/advanced-usage.html#ssl-warnings\n",
      "  InsecureRequestWarning,\n"
     ]
    },
    {
     "name": "stdout",
     "output_type": "stream",
     "text": [
      "Time taken captcha_i: 48.15830898284912\n",
      "Time taken captcha_i: 50.321168661117554\n"
     ]
    },
    {
     "name": "stderr",
     "output_type": "stream",
     "text": [
      "/home/mavino/anaconda3/envs/SEVIMAworkflow/lib/python3.6/site-packages/urllib3/connectionpool.py:988: InsecureRequestWarning: Unverified HTTPS request is being made to host 'cnslp.gob.bo'. Adding certificate verification is strongly advised. See: https://urllib3.readthedocs.io/en/latest/advanced-usage.html#ssl-warnings\n",
      "  InsecureRequestWarning,\n",
      "/home/mavino/anaconda3/envs/SEVIMAworkflow/lib/python3.6/site-packages/urllib3/connectionpool.py:988: InsecureRequestWarning: Unverified HTTPS request is being made to host 'cnslp.gob.bo'. Adding certificate verification is strongly advised. See: https://urllib3.readthedocs.io/en/latest/advanced-usage.html#ssl-warnings\n",
      "  InsecureRequestWarning,\n"
     ]
    },
    {
     "name": "stdout",
     "output_type": "stream",
     "text": [
      "Reintentos restantes 19 {'ci': 8278278, 'extension': '', 'emision': 'La Paz', 'ap_paterno': 'CUTILE', 'ap_materno': 'BALBOA', 'nombre': 'RITA', 'fecha_nac': '1989-05-22', 'celular': 68009216, 'estado_civil': 'Soltero', 'sexo': 'Femenino ', 'cubiculo': 0, 'atencion': '03/08/2021', 'oficina': '1', 'direccion': '', 'email': '', 'tipo_atencion': 'normal', 'telefono': '', 'ip': {'ip': '161.56.49.122'}, 'cookie': '6OvO0zGbMAS6rNMxL1qFbj1AX5oSIL', 'recaptcha': '03AGdBq24Edx7DPzykLcxwtHAPXRzWx7IaGqKupCfelqRpLWDbJGCY3hVNfE3zEw_wFXXyGKiJd0uUKKz4MgpGrocXkoUM_SBUkAUTo4B2tnp-evyFXouBC7bRA_hxyD0sIG-fK121tOV0I1QeWZA8dMjTKB7n_tu1QtwRf4cTQbYux7BAQhH6sF7__nItfJyuf5FYW_3_zsre-Ube_fWMwXuLWGCSwhoPCqPxPwsBpc-yD1BVg4rQq38eVh3ADY9_BtRk11OXx5wH3CbgtXzY0xAxtCFajF9ipBLj2cLGsY-GF9cymQ7r0d6OmiO7YsqTKhwCNnsj7PkyMXMVBBgDybXVidXa89I-FIViXliQlR7MLlqTUGBh5fHun_lQ16HoeQ2zBoCPsWu1Mf8NMMYY4MFyjpw5TN1qQ2QdR3hF0YZRuPhqz_HKIWjhfXDmGjcYZksw3BCgnyPwB7Hk6s2ztW2IMhaiEFiX6QG8PlvtySEfj9-gEjKtU764fk1lAj4JUbYu3tyeueAnWpr-tI1XyGLzlimbFO6jEA'}\n",
      "http://127.0.0.1:8000/fichasCNS/generarFicha?nro_ficha=3&fecha_atencion=03/08/2021&hora_aproximada=08:36&cubiculo=Modulo 3&persona=Javier Sergio Claros Solares&oficina=Regional La Paz&codigo=2HBWLd\n",
      "Javier Sergio Claros Solares 08:36 \n",
      "\n",
      "9081754 RESULTADO ({'ci': 9081754, 'extension': '', 'emision': 'La Paz', 'ap_paterno': 'CLAROS', 'ap_materno': 'SOLARES', 'nombre': 'JAVIER', 'fecha_nac': '2000-12-04', 'celular': 69823087, 'estado_civil': 'Soltero', 'sexo': 'Masculino', 'cubiculo': 0, 'atencion': '03/08/2021', 'oficina': '1', 'direccion': '', 'email': '', 'tipo_atencion': 'normal', 'telefono': '', 'ip': {'ip': '161.138.0.212'}, 'cookie': 'v3DAcow1K7yKYRl2XvMU2Iwi621BTV', 'recaptcha': '03AGdBq24HaZjcFQragqO7abpcj3StG65og1xCL4D8Htogd5OSy0iRBa1LBdSTQbvt9PljIyeIUDo5ms1ek9d2EtTCMQUwb2lBiSE74D_9tODouMw6ybWstznVcFeFAjmqq4zJZnbuYiM09wdy9TfSFQ5EtSQ-2XnFrS4aT2yI0yBjBGzYLisXAT0LCH4DkoturQpOTJTVkPioIPnB5cWBPvNmMnQaJzOAGzpo2V2QwESjSv0gOcxwgnZKXhZ0b3EHxtYGjjGgVzxumeoFdjOX1jQexC2FxDtvON7nEipMKTiSUpQh3f-DGiJOcKSaVYsvDX5rO-IjsdGMHdLFTwqy8VJmEjcOLYXpAKRv5jtNvMO9NicXySKxa-fh_QUC1Mj4aEoSkB51W0H-y1cY0r4tgi6aX5IN3TXpdIGcdSvSGS8qF7u2Bkg9yml6NP-eJzsJAqQKl3UjVo6p-05egtLY_hyTNE8xcHkEsvH0kJiOk2Aofrv8zXZArtZF6k492Z6W84h0MVsZOnlnTLk-9PdaXwB5f7JwIEIvGw'}, <Response [200]>) \n"
     ]
    },
    {
     "name": "stderr",
     "output_type": "stream",
     "text": [
      "/home/mavino/anaconda3/envs/SEVIMAworkflow/lib/python3.6/site-packages/urllib3/connectionpool.py:988: InsecureRequestWarning: Unverified HTTPS request is being made to host 'cnslp.gob.bo'. Adding certificate verification is strongly advised. See: https://urllib3.readthedocs.io/en/latest/advanced-usage.html#ssl-warnings\n",
      "  InsecureRequestWarning,\n"
     ]
    },
    {
     "name": "stdout",
     "output_type": "stream",
     "text": [
      "Time taken captcha_i: 60.36157011985779\n"
     ]
    },
    {
     "name": "stderr",
     "output_type": "stream",
     "text": [
      "/home/mavino/anaconda3/envs/SEVIMAworkflow/lib/python3.6/site-packages/urllib3/connectionpool.py:988: InsecureRequestWarning: Unverified HTTPS request is being made to host 'cnslp.gob.bo'. Adding certificate verification is strongly advised. See: https://urllib3.readthedocs.io/en/latest/advanced-usage.html#ssl-warnings\n",
      "  InsecureRequestWarning,\n"
     ]
    },
    {
     "name": "stdout",
     "output_type": "stream",
     "text": [
      "Reintentos restantes 19 {'ci': 6005381, 'extension': '', 'emision': 'La Paz', 'ap_paterno': 'QUISPE', 'ap_materno': 'CHOQUE', 'nombre': 'IRMA', 'fecha_nac': '1976-07-01', 'celular': 69724755, 'estado_civil': 'Casado', 'sexo': 'Femenino ', 'cubiculo': 0, 'atencion': '03/08/2021', 'oficina': '1', 'direccion': '', 'email': '', 'tipo_atencion': 'normal', 'telefono': '', 'ip': {'ip': '179.59.184.5'}, 'cookie': 'irC1GykGoM3aOjALuJPZ2v5hwYfGy4', 'recaptcha': '03AGdBq269qKK-OAwDqgMZN2Ve3ZgI0gqWcWMmuFd0JYdri8-MnC0_GHc6Pvq9medopAKr9MXM9j4F15wjpyJyaW_g4dRUfVf41PUAEJvrC0l9UHDEND-WgSznxJu9-Jayoud_3emScXbDf4VpeYbq4RHlA11jTwIllxj2-MI8fDLDJvZCeZngAlGsKyFcNGZUCqLaEAWE7vmP6IuZMeXTEgIS-5j5-XMN62mNSh3x7kz54KNpGWtcziQjtEwgQY6om4NzwSlRKb8GrEUdRtseMgpAwUp8my4CcNI6i-ieD1cfY9uKy4umCZ8DrtihXRphLRynnB4lFjq31TiOPW2Kj-0bzWpW_2Htt26rn6DZVbdqF9BUr_Js93dUv1oWq0k26hHUJ7JDDVVxi2H-uTvxfn1Izceto3g49ILS-eCBC0GFa4RdEd_mRxQjKfFkQ3H37iUzAnyTKMLsC3SgMVw0XwVbZgWKhtbY7OZWvk2996Hpwhdw7CK9wvgK4PHHGvvHh4vqzJGXy7Hf'}\n"
     ]
    },
    {
     "name": "stderr",
     "output_type": "stream",
     "text": [
      "/home/mavino/anaconda3/envs/SEVIMAworkflow/lib/python3.6/site-packages/urllib3/connectionpool.py:988: InsecureRequestWarning: Unverified HTTPS request is being made to host 'cnslp.gob.bo'. Adding certificate verification is strongly advised. See: https://urllib3.readthedocs.io/en/latest/advanced-usage.html#ssl-warnings\n",
      "  InsecureRequestWarning,\n"
     ]
    },
    {
     "name": "stdout",
     "output_type": "stream",
     "text": [
      "Time taken captcha_i: 64.37787342071533\n"
     ]
    },
    {
     "name": "stderr",
     "output_type": "stream",
     "text": [
      "/home/mavino/anaconda3/envs/SEVIMAworkflow/lib/python3.6/site-packages/urllib3/connectionpool.py:988: InsecureRequestWarning: Unverified HTTPS request is being made to host 'cnslp.gob.bo'. Adding certificate verification is strongly advised. See: https://urllib3.readthedocs.io/en/latest/advanced-usage.html#ssl-warnings\n",
      "  InsecureRequestWarning,\n"
     ]
    },
    {
     "name": "stdout",
     "output_type": "stream",
     "text": [
      "http://127.0.0.1:8000/fichasCNS/generarFicha?nro_ficha=3&fecha_atencion=03/08/2021&hora_aproximada=08:36&cubiculo=Modulo 5&persona=VERONICA IBAÑEZ YUJRA&oficina=Regional La Paz&codigo=7tx04Y\n",
      "VERONICA IBAÑEZ YUJRA 08:36 \n",
      "\n",
      "13496856 RESULTADO ({'ci': 13496856, 'extension': '', 'emision': 'La Paz', 'ap_paterno': 'IBAÑEZ', 'ap_materno': 'YUJRA', 'nombre': 'VERONICA', 'fecha_nac': '1999-12-13', 'celular': 77789116, 'estado_civil': 'Soltero', 'sexo': 'Femenino ', 'cubiculo': 0, 'atencion': '03/08/2021', 'oficina': '1', 'direccion': '', 'email': '', 'tipo_atencion': 'normal', 'telefono': '', 'ip': {'ip': '179.58.175.12'}, 'cookie': 'gkeuHuqNTAYpOzAGbN3P4MjH89zOMK', 'recaptcha': '03AGdBq258S_tLDL50NFAii9DEij-C3Y3mB0gmBS5xT0H_bZJB-0fQ_xeydEDriTo8eqNCjcjuQCm-iSIfsqPZIrQr3VWf3AcFp0RdZntPXQDbI_DI4FUFzu9yoIygom4ePH66UWzM8cQDCxYHdRlpicoXJmaHMjNUr9Y-fftBjth0QZhEuH93L6UisFtV9PWBZDsV1T6BSTm6Os1cawfHyQUsJX1YG0kf9cHZ48WX4oKVzxypF42W7Zrjybjwm56FQfbS1FoWcusBtvyw9avhPUM46HNyn9KvVhpjtDqraJCFaHZadW1GXhQp3sO_-GWIwwAn9reRUhrXo9PmCFhe82b0baQMTFC0AW1TpNqc1hegRd1ZYYlKNRD4NL3eHjZ2f2nslKX-tW-ILzq5PECzgLxcRf9FpzSAEny0ZwQou7Ik9wFLQbjpoPMoHkeZ-zOHWot0TLjQxyyt7dHha3qctfZp-WQuZgQG6UkH7RWIo5kRcjNmElx7O-bnUqiMWpArdHgE6niB2HL0'}, <Response [200]>) \n",
      "Time taken captcha_i: 73.91856455802917\n"
     ]
    },
    {
     "name": "stderr",
     "output_type": "stream",
     "text": [
      "/home/mavino/anaconda3/envs/SEVIMAworkflow/lib/python3.6/site-packages/urllib3/connectionpool.py:988: InsecureRequestWarning: Unverified HTTPS request is being made to host 'cnslp.gob.bo'. Adding certificate verification is strongly advised. See: https://urllib3.readthedocs.io/en/latest/advanced-usage.html#ssl-warnings\n",
      "  InsecureRequestWarning,\n"
     ]
    },
    {
     "name": "stdout",
     "output_type": "stream",
     "text": [
      "Reintentos restantes 19 {'ci': 669682, 'extension': '', 'emision': 'Oruro', 'ap_paterno': 'ALCOCER', 'ap_materno': 'ANGULO', 'nombre': 'NESTOR', 'fecha_nac': '1954-09-07', 'celular': 77298904, 'estado_civil': 'Casado', 'sexo': 'Masculino', 'cubiculo': 0, 'atencion': '03/08/2021', 'oficina': '1', 'direccion': '', 'email': '', 'tipo_atencion': 'normal', 'telefono': '', 'ip': {'ip': '186.2.4.202'}, 'cookie': 'Oou1EFkXe9KXi2b61mhQayGVw98KrO', 'recaptcha': '03AGdBq27_FdtTaNFpyfthVAIMnOF-9TahFOwcZHY1NRhFDvm62TEcJ_GIvskha5Ob9E6KjuKurr2Jh257b2Iq6_579LRB9c4IEABhk1PtXt8jToNtC1xV68LNNndIsfteRtgVdPijF8mPiW1pWEzVNjgW69qczkflhwnxShnu1lLgpXPCF1tRlhPc3agiHA8VaYVmMvDIfD8LuW6NAosaPQUKCG6K8Ni6ENUFr0Uno3Zau0WzGW2gpvtPh8gLf6mEkFxqypQ1nprLbkGOr7d3L_dCikp2BU2pWQnyKwUo570WHdvvYPyHABq6DzVoQnybPoodzh0_4c9Al_p83qZCFu3DAY-Nvbnpv28BOHYVQ1SzWwzNjVWC-l8yn-B6n_nr_DEeNH8icMA2iostWfIeKikSEomct7vkWqzI7Ogn1bphauHN2xga0jL0w0g6qOomogHn0fo6b22fMiOASwKMb4CAB5Xqqdl2sF-7FDwb1VqWDYUNst2tAC8N5dqAe_XkRxm2hMoOKWFFflGnpkaanezEvf4nOj4rwQ'}\n"
     ]
    },
    {
     "name": "stderr",
     "output_type": "stream",
     "text": [
      "/home/mavino/anaconda3/envs/SEVIMAworkflow/lib/python3.6/site-packages/urllib3/connectionpool.py:988: InsecureRequestWarning: Unverified HTTPS request is being made to host 'cnslp.gob.bo'. Adding certificate verification is strongly advised. See: https://urllib3.readthedocs.io/en/latest/advanced-usage.html#ssl-warnings\n",
      "  InsecureRequestWarning,\n"
     ]
    },
    {
     "name": "stdout",
     "output_type": "stream",
     "text": [
      "Time taken captcha_i: 23.388586044311523\n",
      "Time taken captcha_i: 4.570641040802002\n"
     ]
    },
    {
     "name": "stderr",
     "output_type": "stream",
     "text": [
      "/home/mavino/anaconda3/envs/SEVIMAworkflow/lib/python3.6/site-packages/urllib3/connectionpool.py:988: InsecureRequestWarning: Unverified HTTPS request is being made to host 'cnslp.gob.bo'. Adding certificate verification is strongly advised. See: https://urllib3.readthedocs.io/en/latest/advanced-usage.html#ssl-warnings\n",
      "  InsecureRequestWarning,\n",
      "/home/mavino/anaconda3/envs/SEVIMAworkflow/lib/python3.6/site-packages/urllib3/connectionpool.py:988: InsecureRequestWarning: Unverified HTTPS request is being made to host 'cnslp.gob.bo'. Adding certificate verification is strongly advised. See: https://urllib3.readthedocs.io/en/latest/advanced-usage.html#ssl-warnings\n",
      "  InsecureRequestWarning,\n"
     ]
    },
    {
     "name": "stdout",
     "output_type": "stream",
     "text": [
      "http://127.0.0.1:8000/fichasCNS/generarFicha?nro_ficha=3&fecha_atencion=03/08/2021&hora_aproximada=08:36&cubiculo=Modulo 6&persona=Nestor Alcocer Angulo&oficina=Regional La Paz&codigo=UjAr2r\n",
      "Nestor Alcocer Angulo 08:36 \n",
      "\n",
      "669682 RESULTADO ({'ci': 669682, 'extension': '', 'emision': 'Oruro', 'ap_paterno': 'ALCOCER', 'ap_materno': 'ANGULO', 'nombre': 'NESTOR', 'fecha_nac': '1954-09-07', 'celular': 77298904, 'estado_civil': 'Casado', 'sexo': 'Masculino', 'cubiculo': 0, 'atencion': '03/08/2021', 'oficina': '1', 'direccion': '', 'email': '', 'tipo_atencion': 'normal', 'telefono': '', 'ip': {'ip': '181.227.246.55'}, 'cookie': 'OgGYLAjqXMj2dKMa0wf2EnpmknVNpM', 'recaptcha': '03AGdBq26xIQTsy4Kbi2pFaC-0p9AwphJYZcrvmPbrqevUjUzislI1xdBveEbupR_eTXNlPmzrWIaNn5nrbQdyZHun2q34X3gxeNGgRMTRFBgOt8o6OWgKhQFd8bTXEw936X9gX7fC6JqVIidB9XDx3DSM0pPIBgxntvGy5v5GF57kwJE55KHTnY3ToxuVTgYmF_MTEZGTIhjtfUFshtcSH5hJTjujfPiQfjQEACPvWxvvUWTilXoF97vQT1uemB-UashTgL1_YFKqFP2HP7PCPrXTU0k2L8_dd8DWzBkux9julRfvO-ENbZywI5tn_uwm-AZOkjRPyOR1VGODb6BDvyuSfTz3HSIB8a3SInxi68RLNDlI2U24Rs2oT-UPYZXTWcXDtQ1iorgX7fvTYARCT5xVpzTB5OmEyfcxwUaPjoqFoIv5dVu00L-Jop_nIq7Yk4b0eGJYRSWrA0N4JAj6sG_TRhJSW9TB-b8DS1hTBFp8qIrq0sP6FDFr60PtqfCjMVz36o2gzwUJZLY7PuIhJKBCi4ctJYFwOyKhV36r0MovNjmCpf--_UM'}, <Response [200]>) \n",
      "http://127.0.0.1:8000/fichasCNS/generarFicha?nro_ficha=3&fecha_atencion=03/08/2021&hora_aproximada=08:36&cubiculo=Modulo 4&persona=RITA CUTILE BALBOA&oficina=Regional La Paz&codigo=6IyRyo\n",
      "RITA CUTILE BALBOA 08:36 \n",
      "\n",
      "8278278 RESULTADO ({'ci': 8278278, 'extension': '', 'emision': 'La Paz', 'ap_paterno': 'CUTILE', 'ap_materno': 'BALBOA', 'nombre': 'RITA', 'fecha_nac': '1989-05-22', 'celular': 68009216, 'estado_civil': 'Soltero', 'sexo': 'Femenino ', 'cubiculo': 0, 'atencion': '03/08/2021', 'oficina': '1', 'direccion': '', 'email': '', 'tipo_atencion': 'normal', 'telefono': '', 'ip': {'ip': '181.115.177.66'}, 'cookie': '5tzFs0Zh08fBsjOmayQPu6aD172j9u', 'recaptcha': '03AGdBq27s_vMEc_Zn9n_FiXRhuw8DuCcXBu6ewQcls_jGTGEywsPej7ge3hXtej4t6cwoxi2kp2oskPYaLZYE_pm4KqdKjq6kic5rTtUYDnLgMHbfE_-mS7ynE84Tyu2tsSwxyL28gZphwxoqZE87gDCBDUAU9NxEWUKLztXtmdjX6dv6UjKnDJoL5P3rfbQGJZ1R20JUPhpG4SgNpd7B77DU93TpwDto9dTTw7I-O01Ak2pzz-ctKKUm1kqnazwQvzjqfVwBrjavT_5ephDZCwKRgYeuO_NZ8FGkGGs6_b3HlBepvN2Y2zPRc7ZbtfyVn-au1mkWUx-xeJpZRTm7hhh9pNoBqJGd-i88AnG3ZbP6uiQy_GHXqx0rIb7CQcYZW3SXVGZxSsWH91CceFk0--noKRsNBGdXbKJVWFL46DSY046SlBoKqzXNmKUswxqFvP2a6m_fC3lI155xfxIHimsN9iCQXVl9t5u8iJqpLS6WE5bwoPAhnmJaTfE1O9ybE5LwfWzRytjh_-2w5utjkWU1SGcjXUFXnGt8vakuh4RelqBzEktG7rE'}, <Response [200]>) \n",
      "Time taken captcha_i: 85.07026815414429\n"
     ]
    },
    {
     "name": "stderr",
     "output_type": "stream",
     "text": [
      "/home/mavino/anaconda3/envs/SEVIMAworkflow/lib/python3.6/site-packages/urllib3/connectionpool.py:988: InsecureRequestWarning: Unverified HTTPS request is being made to host 'cnslp.gob.bo'. Adding certificate verification is strongly advised. See: https://urllib3.readthedocs.io/en/latest/advanced-usage.html#ssl-warnings\n",
      "  InsecureRequestWarning,\n"
     ]
    },
    {
     "name": "stdout",
     "output_type": "stream",
     "text": [
      "http://127.0.0.1:8000/fichasCNS/generarFicha?nro_ficha=3&fecha_atencion=03/08/2021&hora_aproximada=08:36&cubiculo=Modulo 5&persona=ERIKA MACHICADO QUISPE&oficina=Regional La Paz&codigo=df5gmb\n",
      "ERIKA MACHICADO QUISPE 08:36 \n",
      "\n",
      "4816303 RESULTADO ({'ci': 4816303, 'extension': '', 'emision': 'La Paz', 'ap_paterno': 'MACHICADO', 'ap_materno': 'QUISPE', 'nombre': 'ERIKA', 'fecha_nac': '1980-07-27', 'celular': 73501937, 'estado_civil': 'Soltero', 'sexo': 'Femenino ', 'cubiculo': 0, 'atencion': '03/08/2021', 'oficina': '1', 'direccion': '', 'email': '', 'tipo_atencion': 'normal', 'telefono': '', 'ip': {'ip': '161.138.121.193'}, 'cookie': 'ukj7z7jVnWxrnuuZltvEmnq01lrG9F', 'recaptcha': '03AGdBq24LdzxIWdPyVSDSSbk0Js00fypRtOJwOjXXSM2Lqg88cIApFI8kFzuSHteB2ALb49k_QxfxFMEXqYwztusoHq5diMQl0r4JwlTBqdi9dH4bu4wgvm8I_CFdKFZk7Mzyvd2LjWZYlZpNd-wZ1jH7m6l1esBh6B6Jmy6dcaAOWig8R5pzPNdFizu6IihdIpBazifA2EEGAxqy0uvVPFWrxGWzf6yC8WyS57nhouTiIZ34ihtQHlzV91m4Dfhyl6thG-LLPaXpsYIr8D9APqu__GO9032gmUIIpJDd45Lo9t1YK5Fx9B_BuiROPwFNHLEhnDovAi64FYsYrn99iTIOkrVP4sKoaB0ZiYISdSv_M8n5aMHbjykMlvkaYixWk02_5HxLSExJvo4OBA57RM4eYYIvJ25kBWp1CZvCTrUIZNe3BCjmnQmGwdIb17uyVrdxfFS99eP42ttOV6bw-q6O2oEUtro7gwwhobB8K8VGnv6NJiorWA36FcXkwhs2ETVnpogpYWh0k9bSdGf61Sg9wzBPoE8o0g'}, <Response [200]>) \n",
      "Time taken captcha_i: 60.487099409103394\n"
     ]
    },
    {
     "name": "stderr",
     "output_type": "stream",
     "text": [
      "/home/mavino/anaconda3/envs/SEVIMAworkflow/lib/python3.6/site-packages/urllib3/connectionpool.py:988: InsecureRequestWarning: Unverified HTTPS request is being made to host 'cnslp.gob.bo'. Adding certificate verification is strongly advised. See: https://urllib3.readthedocs.io/en/latest/advanced-usage.html#ssl-warnings\n",
      "  InsecureRequestWarning,\n"
     ]
    },
    {
     "name": "stdout",
     "output_type": "stream",
     "text": [
      "http://127.0.0.1:8000/fichasCNS/generarFicha?nro_ficha=3&fecha_atencion=03/08/2021&hora_aproximada=08:36&cubiculo=Modulo 7&persona=IRMA QUISPE CHOQUE&oficina=Regional La Paz&codigo=Qo4Gxi\n",
      "IRMA QUISPE CHOQUE 08:36 \n",
      "\n",
      "6005381 RESULTADO ({'ci': 6005381, 'extension': '', 'emision': 'La Paz', 'ap_paterno': 'QUISPE', 'ap_materno': 'CHOQUE', 'nombre': 'IRMA', 'fecha_nac': '1976-07-01', 'celular': 69724755, 'estado_civil': 'Casado', 'sexo': 'Femenino ', 'cubiculo': 0, 'atencion': '03/08/2021', 'oficina': '1', 'direccion': '', 'email': '', 'tipo_atencion': 'normal', 'telefono': '', 'ip': {'ip': '161.22.188.155'}, 'cookie': '93GO6RC181y69qTLLfuvnHca6RWYMN', 'recaptcha': '03AGdBq24AeN_YfY8WbQxyv-Zsax2aRAfYAgwC8pRSzX5tQXWgoA60sv5DyEAMIrtdQrk-jm0wlLWyaMfgRQlpfgELhq_Ge9DXDmKF5TY3qpqOSsadAprxe0WizwLFc0AjEQYeWVMQb82S9zA9qfgYW4usHBpYoOg5vxdkeiP8mXC7ifYCzj15Z6xwUPXXqawMna51YnH6e40IPyBDQLW5BmHMILkxHPBK6g6PUkKh6YP-R3hlj48_QfA3x9Wvmrm4dCg1SIvlOlsFgG_gSaJ2sxdTOyn161s8H8xsMkvcCw038p44mlaMLLiWrnD7Zqsgh0xK08U-c9uQuveJ6EgvmIwhvGnsiPM1WOZfmj8rmKHZQ3X8nhUlSM64DJ7nJl70Ajk84oAhiWUyQvTSk-amBUKu3gh5g8trUGY2BE-IP4znr593PaYUmU6tzScPuK1A8Jw9Ittv1_EdIDsdXyvR2l0NDakHhzCeEqAwt3oCp7mik7ivO1I5l_F1Jjtc_8zcSWmpc3J0EoGG'}, <Response [200]>) \n",
      "Total Ejecución FICHAS : 139.35036659240723\n"
     ]
    }
   ],
   "source": [
    "start = time.time()\n",
    "processes = []\n",
    "with ThreadPoolExecutor(max_workers=25) as executor:\n",
    "    RESULTADOS_FINALES = {executor.submit(ObtenerFichaREC, cli_i) : cli_i for cli_i in DATOS}\n",
    "    \n",
    "    for ficha_i in as_completed(RESULTADOS_FINALES):\n",
    "            url = RESULTADOS_FINALES[ficha_i]\n",
    "            try:\n",
    "                data = ficha_i.result()\n",
    "            except Exception as exc:\n",
    "                print('{} EXCEPTION {}'.format(url[\"ci\"], exc))\n",
    "            else:\n",
    "                print('{} RESULTADO {} '.format(url[\"ci\"], data))    \n",
    "\n",
    "print(f'Total Ejecución FICHAS : {time.time() - start}')"
   ]
  },
  {
   "cell_type": "code",
   "execution_count": 13,
   "metadata": {},
   "outputs": [],
   "source": [
    "ronda_i = [ A for A in as_completed(RESULTADOS_FINALES)]"
   ]
  },
  {
   "cell_type": "code",
   "execution_count": 14,
   "metadata": {},
   "outputs": [
    {
     "data": {
      "text/plain": [
       "[<Future at 0x7f742c02ffd0 state=finished returned tuple>,\n",
       " <Future at 0x7f741c194128 state=finished returned tuple>,\n",
       " <Future at 0x7f742c02f6a0 state=finished returned tuple>,\n",
       " <Future at 0x7f741c194470 state=finished returned tuple>,\n",
       " <Future at 0x7f741c194630 state=finished returned tuple>,\n",
       " <Future at 0x7f742c02fc18 state=finished returned tuple>]"
      ]
     },
     "execution_count": 14,
     "metadata": {},
     "output_type": "execute_result"
    }
   ],
   "source": [
    "ronda_i"
   ]
  },
  {
   "cell_type": "code",
   "execution_count": 15,
   "metadata": {},
   "outputs": [
    {
     "data": {
      "text/plain": [
       "[<Response [200]>,\n",
       " <Response [200]>,\n",
       " <Response [200]>,\n",
       " <Response [200]>,\n",
       " <Response [200]>,\n",
       " <Response [200]>]"
      ]
     },
     "execution_count": 15,
     "metadata": {},
     "output_type": "execute_result"
    }
   ],
   "source": [
    "[i.result()[1] for i in ronda_i]"
   ]
  },
  {
   "cell_type": "code",
   "execution_count": 16,
   "metadata": {},
   "outputs": [],
   "source": [
    "URLS = []"
   ]
  },
  {
   "cell_type": "code",
   "execution_count": 17,
   "metadata": {
    "scrolled": false
   },
   "outputs": [
    {
     "name": "stdout",
     "output_type": "stream",
     "text": [
      "http://127.0.0.1:8000/fichasCNS/generarFicha?nro_ficha=3&fecha_atencion=03/08/2021&hora_aproximada=08:36&cubiculo=Modulo 4&persona=RITA CUTILE BALBOA&oficina=Regional La Paz&codigo=6IyRyo\n",
      "http://127.0.0.1:8000/fichasCNS/generarFicha?nro_ficha=3&fecha_atencion=03/08/2021&hora_aproximada=08:36&cubiculo=Modulo 5&persona=VERONICA IBAÑEZ YUJRA&oficina=Regional La Paz&codigo=7tx04Y\n",
      "http://127.0.0.1:8000/fichasCNS/generarFicha?nro_ficha=3&fecha_atencion=03/08/2021&hora_aproximada=08:36&cubiculo=Modulo 7&persona=IRMA QUISPE CHOQUE&oficina=Regional La Paz&codigo=Qo4Gxi\n",
      "http://127.0.0.1:8000/fichasCNS/generarFicha?nro_ficha=3&fecha_atencion=03/08/2021&hora_aproximada=08:36&cubiculo=Modulo 6&persona=Nestor Alcocer Angulo&oficina=Regional La Paz&codigo=UjAr2r\n",
      "http://127.0.0.1:8000/fichasCNS/generarFicha?nro_ficha=3&fecha_atencion=03/08/2021&hora_aproximada=08:36&cubiculo=Modulo 3&persona=Javier Sergio Claros Solares&oficina=Regional La Paz&codigo=2HBWLd\n",
      "http://127.0.0.1:8000/fichasCNS/generarFicha?nro_ficha=3&fecha_atencion=03/08/2021&hora_aproximada=08:36&cubiculo=Modulo 5&persona=ERIKA MACHICADO QUISPE&oficina=Regional La Paz&codigo=df5gmb\n"
     ]
    }
   ],
   "source": [
    "for i in ronda_i:\n",
    "    if i.result()[1].ok:\n",
    "        salida = i.result()[1].json()[\"respuesta\"]\n",
    "\n",
    "        oficina_i = oficinasDF.loc[ oficinasDF.id == salida[\"oficina\"], \"nombre\"].values[0]\n",
    "\n",
    "        url_i = \"http://127.0.0.1:8000/fichasCNS/generarFicha?nro_ficha={nro_ficha}&fecha_atencion={fecha_atencion}&hora_aproximada={hora_aproximada}&cubiculo={cubiculo}&persona={persona}&oficina={oficina}&codigo={codigo}\".format(\n",
    "            nro_ficha     = salida[\"numero_atencion\"]\n",
    "            ,fecha_atencion   = pd.to_datetime(salida[\"fecha\"]).strftime(\"%d/%m/%Y\")\n",
    "            ,hora_aproximada    = salida[\"hora_aproximada\"]\n",
    "            ,cubiculo  = salida[\"cubiculo\"]\n",
    "            ,persona  = salida[\"persona\"]\n",
    "            ,oficina = oficina_i \n",
    "            ,codigo = salida[\"codigo\"])\n",
    "        print(url_i)\n",
    "        URLS.append(url_i)"
   ]
  },
  {
   "cell_type": "code",
   "execution_count": 18,
   "metadata": {},
   "outputs": [
    {
     "data": {
      "text/plain": [
       "6"
      ]
     },
     "execution_count": 18,
     "metadata": {},
     "output_type": "execute_result"
    }
   ],
   "source": [
    "URLS.sort()\n",
    "len(URLS)"
   ]
  },
  {
   "cell_type": "markdown",
   "metadata": {},
   "source": [
    "# Obtener PDF basado en el QR "
   ]
  },
  {
   "cell_type": "code",
   "execution_count": 19,
   "metadata": {},
   "outputs": [],
   "source": [
    "import os, shutil"
   ]
  },
  {
   "cell_type": "code",
   "execution_count": 20,
   "metadata": {},
   "outputs": [],
   "source": [
    "\n",
    "for filename in os.listdir(download_directory):\n",
    "    file_path = os.path.join(download_directory, filename)\n",
    "    try:\n",
    "        if os.path.isfile(file_path) or os.path.islink(file_path):\n",
    "            os.unlink(file_path)\n",
    "        elif os.path.isdir(file_path):\n",
    "            shutil.rmtree(file_path)\n",
    "    except Exception as e:\n",
    "        print('Failed to delete %s. Reason: %s' % (file_path, e))"
   ]
  },
  {
   "cell_type": "code",
   "execution_count": 21,
   "metadata": {},
   "outputs": [],
   "source": [
    "for i in URLS:\n",
    "    navegador.get(i)\n",
    "    time.sleep(1)"
   ]
  },
  {
   "cell_type": "code",
   "execution_count": 22,
   "metadata": {},
   "outputs": [
    {
     "data": {
      "text/plain": [
       "6"
      ]
     },
     "execution_count": 22,
     "metadata": {},
     "output_type": "execute_result"
    }
   ],
   "source": [
    "len(URLS)"
   ]
  },
  {
   "cell_type": "code",
   "execution_count": 43,
   "metadata": {},
   "outputs": [],
   "source": [
    "# Renombramiento automático"
   ]
  },
  {
   "cell_type": "code",
   "execution_count": 44,
   "metadata": {
    "scrolled": true
   },
   "outputs": [
    {
     "data": {
      "text/plain": [
       "<Response [200]>"
      ]
     },
     "execution_count": 44,
     "metadata": {},
     "output_type": "execute_result"
    }
   ],
   "source": [
    "requests.get(\"http://127.0.0.1:8000/fichasCNS/rename\")"
   ]
  },
  {
   "cell_type": "code",
   "execution_count": 45,
   "metadata": {},
   "outputs": [],
   "source": [
    "try: \n",
    "    os.rename(  os.path.join(download_directory, \"TOTAL.pdf\") , \n",
    "                os.path.join(download_directory, \"TOTAL_{fec}.pdf\".format(fec = fecha_i)) )\n",
    "except : \n",
    "    print(\"Algo malio sal ...\")"
   ]
  },
  {
   "cell_type": "code",
   "execution_count": 46,
   "metadata": {},
   "outputs": [
    {
     "ename": "MaxRetryError",
     "evalue": "HTTPConnectionPool(host='127.0.0.1', port=56141): Max retries exceeded with url: /session/2ff721fa-f5d8-4087-a620-ac3358fb2bf5/window (Caused by NewConnectionError('<urllib3.connection.HTTPConnection object at 0x7f741c616f60>: Failed to establish a new connection: [Errno 111] Connection refused',))",
     "output_type": "error",
     "traceback": [
      "\u001b[0;31m---------------------------------------------------------------------------\u001b[0m",
      "\u001b[0;31mConnectionRefusedError\u001b[0m                    Traceback (most recent call last)",
      "\u001b[0;32m~/anaconda3/envs/SEVIMAworkflow/lib/python3.6/site-packages/urllib3/connection.py\u001b[0m in \u001b[0;36m_new_conn\u001b[0;34m(self)\u001b[0m\n\u001b[1;32m    159\u001b[0m             conn = connection.create_connection(\n\u001b[0;32m--> 160\u001b[0;31m                 \u001b[0;34m(\u001b[0m\u001b[0mself\u001b[0m\u001b[0;34m.\u001b[0m\u001b[0m_dns_host\u001b[0m\u001b[0;34m,\u001b[0m \u001b[0mself\u001b[0m\u001b[0;34m.\u001b[0m\u001b[0mport\u001b[0m\u001b[0;34m)\u001b[0m\u001b[0;34m,\u001b[0m \u001b[0mself\u001b[0m\u001b[0;34m.\u001b[0m\u001b[0mtimeout\u001b[0m\u001b[0;34m,\u001b[0m \u001b[0;34m**\u001b[0m\u001b[0mextra_kw\u001b[0m\u001b[0;34m\u001b[0m\u001b[0;34m\u001b[0m\u001b[0m\n\u001b[0m\u001b[1;32m    161\u001b[0m             )\n",
      "\u001b[0;32m~/anaconda3/envs/SEVIMAworkflow/lib/python3.6/site-packages/urllib3/util/connection.py\u001b[0m in \u001b[0;36mcreate_connection\u001b[0;34m(address, timeout, source_address, socket_options)\u001b[0m\n\u001b[1;32m     83\u001b[0m     \u001b[0;32mif\u001b[0m \u001b[0merr\u001b[0m \u001b[0;32mis\u001b[0m \u001b[0;32mnot\u001b[0m \u001b[0;32mNone\u001b[0m\u001b[0;34m:\u001b[0m\u001b[0;34m\u001b[0m\u001b[0;34m\u001b[0m\u001b[0m\n\u001b[0;32m---> 84\u001b[0;31m         \u001b[0;32mraise\u001b[0m \u001b[0merr\u001b[0m\u001b[0;34m\u001b[0m\u001b[0;34m\u001b[0m\u001b[0m\n\u001b[0m\u001b[1;32m     85\u001b[0m \u001b[0;34m\u001b[0m\u001b[0m\n",
      "\u001b[0;32m~/anaconda3/envs/SEVIMAworkflow/lib/python3.6/site-packages/urllib3/util/connection.py\u001b[0m in \u001b[0;36mcreate_connection\u001b[0;34m(address, timeout, source_address, socket_options)\u001b[0m\n\u001b[1;32m     73\u001b[0m                 \u001b[0msock\u001b[0m\u001b[0;34m.\u001b[0m\u001b[0mbind\u001b[0m\u001b[0;34m(\u001b[0m\u001b[0msource_address\u001b[0m\u001b[0;34m)\u001b[0m\u001b[0;34m\u001b[0m\u001b[0;34m\u001b[0m\u001b[0m\n\u001b[0;32m---> 74\u001b[0;31m             \u001b[0msock\u001b[0m\u001b[0;34m.\u001b[0m\u001b[0mconnect\u001b[0m\u001b[0;34m(\u001b[0m\u001b[0msa\u001b[0m\u001b[0;34m)\u001b[0m\u001b[0;34m\u001b[0m\u001b[0;34m\u001b[0m\u001b[0m\n\u001b[0m\u001b[1;32m     75\u001b[0m             \u001b[0;32mreturn\u001b[0m \u001b[0msock\u001b[0m\u001b[0;34m\u001b[0m\u001b[0;34m\u001b[0m\u001b[0m\n",
      "\u001b[0;31mConnectionRefusedError\u001b[0m: [Errno 111] Connection refused",
      "\nDuring handling of the above exception, another exception occurred:\n",
      "\u001b[0;31mNewConnectionError\u001b[0m                        Traceback (most recent call last)",
      "\u001b[0;32m~/anaconda3/envs/SEVIMAworkflow/lib/python3.6/site-packages/urllib3/connectionpool.py\u001b[0m in \u001b[0;36murlopen\u001b[0;34m(self, method, url, body, headers, retries, redirect, assert_same_host, timeout, pool_timeout, release_conn, chunked, body_pos, **response_kw)\u001b[0m\n\u001b[1;32m    676\u001b[0m                 \u001b[0mheaders\u001b[0m\u001b[0;34m=\u001b[0m\u001b[0mheaders\u001b[0m\u001b[0;34m,\u001b[0m\u001b[0;34m\u001b[0m\u001b[0;34m\u001b[0m\u001b[0m\n\u001b[0;32m--> 677\u001b[0;31m                 \u001b[0mchunked\u001b[0m\u001b[0;34m=\u001b[0m\u001b[0mchunked\u001b[0m\u001b[0;34m,\u001b[0m\u001b[0;34m\u001b[0m\u001b[0;34m\u001b[0m\u001b[0m\n\u001b[0m\u001b[1;32m    678\u001b[0m             )\n",
      "\u001b[0;32m~/anaconda3/envs/SEVIMAworkflow/lib/python3.6/site-packages/urllib3/connectionpool.py\u001b[0m in \u001b[0;36m_make_request\u001b[0;34m(self, conn, method, url, timeout, chunked, **httplib_request_kw)\u001b[0m\n\u001b[1;32m    391\u001b[0m         \u001b[0;32melse\u001b[0m\u001b[0;34m:\u001b[0m\u001b[0;34m\u001b[0m\u001b[0;34m\u001b[0m\u001b[0m\n\u001b[0;32m--> 392\u001b[0;31m             \u001b[0mconn\u001b[0m\u001b[0;34m.\u001b[0m\u001b[0mrequest\u001b[0m\u001b[0;34m(\u001b[0m\u001b[0mmethod\u001b[0m\u001b[0;34m,\u001b[0m \u001b[0murl\u001b[0m\u001b[0;34m,\u001b[0m \u001b[0;34m**\u001b[0m\u001b[0mhttplib_request_kw\u001b[0m\u001b[0;34m)\u001b[0m\u001b[0;34m\u001b[0m\u001b[0;34m\u001b[0m\u001b[0m\n\u001b[0m\u001b[1;32m    393\u001b[0m \u001b[0;34m\u001b[0m\u001b[0m\n",
      "\u001b[0;32m~/anaconda3/envs/SEVIMAworkflow/lib/python3.6/http/client.py\u001b[0m in \u001b[0;36mrequest\u001b[0;34m(self, method, url, body, headers, encode_chunked)\u001b[0m\n\u001b[1;32m   1286\u001b[0m         \u001b[0;34m\"\"\"Send a complete request to the server.\"\"\"\u001b[0m\u001b[0;34m\u001b[0m\u001b[0;34m\u001b[0m\u001b[0m\n\u001b[0;32m-> 1287\u001b[0;31m         \u001b[0mself\u001b[0m\u001b[0;34m.\u001b[0m\u001b[0m_send_request\u001b[0m\u001b[0;34m(\u001b[0m\u001b[0mmethod\u001b[0m\u001b[0;34m,\u001b[0m \u001b[0murl\u001b[0m\u001b[0;34m,\u001b[0m \u001b[0mbody\u001b[0m\u001b[0;34m,\u001b[0m \u001b[0mheaders\u001b[0m\u001b[0;34m,\u001b[0m \u001b[0mencode_chunked\u001b[0m\u001b[0;34m)\u001b[0m\u001b[0;34m\u001b[0m\u001b[0;34m\u001b[0m\u001b[0m\n\u001b[0m\u001b[1;32m   1288\u001b[0m \u001b[0;34m\u001b[0m\u001b[0m\n",
      "\u001b[0;32m~/anaconda3/envs/SEVIMAworkflow/lib/python3.6/http/client.py\u001b[0m in \u001b[0;36m_send_request\u001b[0;34m(self, method, url, body, headers, encode_chunked)\u001b[0m\n\u001b[1;32m   1332\u001b[0m             \u001b[0mbody\u001b[0m \u001b[0;34m=\u001b[0m \u001b[0m_encode\u001b[0m\u001b[0;34m(\u001b[0m\u001b[0mbody\u001b[0m\u001b[0;34m,\u001b[0m \u001b[0;34m'body'\u001b[0m\u001b[0;34m)\u001b[0m\u001b[0;34m\u001b[0m\u001b[0;34m\u001b[0m\u001b[0m\n\u001b[0;32m-> 1333\u001b[0;31m         \u001b[0mself\u001b[0m\u001b[0;34m.\u001b[0m\u001b[0mendheaders\u001b[0m\u001b[0;34m(\u001b[0m\u001b[0mbody\u001b[0m\u001b[0;34m,\u001b[0m \u001b[0mencode_chunked\u001b[0m\u001b[0;34m=\u001b[0m\u001b[0mencode_chunked\u001b[0m\u001b[0;34m)\u001b[0m\u001b[0;34m\u001b[0m\u001b[0;34m\u001b[0m\u001b[0m\n\u001b[0m\u001b[1;32m   1334\u001b[0m \u001b[0;34m\u001b[0m\u001b[0m\n",
      "\u001b[0;32m~/anaconda3/envs/SEVIMAworkflow/lib/python3.6/http/client.py\u001b[0m in \u001b[0;36mendheaders\u001b[0;34m(self, message_body, encode_chunked)\u001b[0m\n\u001b[1;32m   1281\u001b[0m             \u001b[0;32mraise\u001b[0m \u001b[0mCannotSendHeader\u001b[0m\u001b[0;34m(\u001b[0m\u001b[0;34m)\u001b[0m\u001b[0;34m\u001b[0m\u001b[0;34m\u001b[0m\u001b[0m\n\u001b[0;32m-> 1282\u001b[0;31m         \u001b[0mself\u001b[0m\u001b[0;34m.\u001b[0m\u001b[0m_send_output\u001b[0m\u001b[0;34m(\u001b[0m\u001b[0mmessage_body\u001b[0m\u001b[0;34m,\u001b[0m \u001b[0mencode_chunked\u001b[0m\u001b[0;34m=\u001b[0m\u001b[0mencode_chunked\u001b[0m\u001b[0;34m)\u001b[0m\u001b[0;34m\u001b[0m\u001b[0;34m\u001b[0m\u001b[0m\n\u001b[0m\u001b[1;32m   1283\u001b[0m \u001b[0;34m\u001b[0m\u001b[0m\n",
      "\u001b[0;32m~/anaconda3/envs/SEVIMAworkflow/lib/python3.6/http/client.py\u001b[0m in \u001b[0;36m_send_output\u001b[0;34m(self, message_body, encode_chunked)\u001b[0m\n\u001b[1;32m   1041\u001b[0m         \u001b[0;32mdel\u001b[0m \u001b[0mself\u001b[0m\u001b[0;34m.\u001b[0m\u001b[0m_buffer\u001b[0m\u001b[0;34m[\u001b[0m\u001b[0;34m:\u001b[0m\u001b[0;34m]\u001b[0m\u001b[0;34m\u001b[0m\u001b[0;34m\u001b[0m\u001b[0m\n\u001b[0;32m-> 1042\u001b[0;31m         \u001b[0mself\u001b[0m\u001b[0;34m.\u001b[0m\u001b[0msend\u001b[0m\u001b[0;34m(\u001b[0m\u001b[0mmsg\u001b[0m\u001b[0;34m)\u001b[0m\u001b[0;34m\u001b[0m\u001b[0;34m\u001b[0m\u001b[0m\n\u001b[0m\u001b[1;32m   1043\u001b[0m \u001b[0;34m\u001b[0m\u001b[0m\n",
      "\u001b[0;32m~/anaconda3/envs/SEVIMAworkflow/lib/python3.6/http/client.py\u001b[0m in \u001b[0;36msend\u001b[0;34m(self, data)\u001b[0m\n\u001b[1;32m    979\u001b[0m             \u001b[0;32mif\u001b[0m \u001b[0mself\u001b[0m\u001b[0;34m.\u001b[0m\u001b[0mauto_open\u001b[0m\u001b[0;34m:\u001b[0m\u001b[0;34m\u001b[0m\u001b[0;34m\u001b[0m\u001b[0m\n\u001b[0;32m--> 980\u001b[0;31m                 \u001b[0mself\u001b[0m\u001b[0;34m.\u001b[0m\u001b[0mconnect\u001b[0m\u001b[0;34m(\u001b[0m\u001b[0;34m)\u001b[0m\u001b[0;34m\u001b[0m\u001b[0;34m\u001b[0m\u001b[0m\n\u001b[0m\u001b[1;32m    981\u001b[0m             \u001b[0;32melse\u001b[0m\u001b[0;34m:\u001b[0m\u001b[0;34m\u001b[0m\u001b[0;34m\u001b[0m\u001b[0m\n",
      "\u001b[0;32m~/anaconda3/envs/SEVIMAworkflow/lib/python3.6/site-packages/urllib3/connection.py\u001b[0m in \u001b[0;36mconnect\u001b[0;34m(self)\u001b[0m\n\u001b[1;32m    186\u001b[0m     \u001b[0;32mdef\u001b[0m \u001b[0mconnect\u001b[0m\u001b[0;34m(\u001b[0m\u001b[0mself\u001b[0m\u001b[0;34m)\u001b[0m\u001b[0;34m:\u001b[0m\u001b[0;34m\u001b[0m\u001b[0;34m\u001b[0m\u001b[0m\n\u001b[0;32m--> 187\u001b[0;31m         \u001b[0mconn\u001b[0m \u001b[0;34m=\u001b[0m \u001b[0mself\u001b[0m\u001b[0;34m.\u001b[0m\u001b[0m_new_conn\u001b[0m\u001b[0;34m(\u001b[0m\u001b[0;34m)\u001b[0m\u001b[0;34m\u001b[0m\u001b[0;34m\u001b[0m\u001b[0m\n\u001b[0m\u001b[1;32m    188\u001b[0m         \u001b[0mself\u001b[0m\u001b[0;34m.\u001b[0m\u001b[0m_prepare_conn\u001b[0m\u001b[0;34m(\u001b[0m\u001b[0mconn\u001b[0m\u001b[0;34m)\u001b[0m\u001b[0;34m\u001b[0m\u001b[0;34m\u001b[0m\u001b[0m\n",
      "\u001b[0;32m~/anaconda3/envs/SEVIMAworkflow/lib/python3.6/site-packages/urllib3/connection.py\u001b[0m in \u001b[0;36m_new_conn\u001b[0;34m(self)\u001b[0m\n\u001b[1;32m    171\u001b[0m             raise NewConnectionError(\n\u001b[0;32m--> 172\u001b[0;31m                 \u001b[0mself\u001b[0m\u001b[0;34m,\u001b[0m \u001b[0;34m\"Failed to establish a new connection: %s\"\u001b[0m \u001b[0;34m%\u001b[0m \u001b[0me\u001b[0m\u001b[0;34m\u001b[0m\u001b[0;34m\u001b[0m\u001b[0m\n\u001b[0m\u001b[1;32m    173\u001b[0m             )\n",
      "\u001b[0;31mNewConnectionError\u001b[0m: <urllib3.connection.HTTPConnection object at 0x7f741c616f60>: Failed to establish a new connection: [Errno 111] Connection refused",
      "\nDuring handling of the above exception, another exception occurred:\n",
      "\u001b[0;31mMaxRetryError\u001b[0m                             Traceback (most recent call last)",
      "\u001b[0;32m<ipython-input-46-0ab04ae1be49>\u001b[0m in \u001b[0;36m<module>\u001b[0;34m\u001b[0m\n\u001b[0;32m----> 1\u001b[0;31m \u001b[0mnavegador\u001b[0m\u001b[0;34m.\u001b[0m\u001b[0mclose\u001b[0m\u001b[0;34m(\u001b[0m\u001b[0;34m)\u001b[0m\u001b[0;34m\u001b[0m\u001b[0;34m\u001b[0m\u001b[0m\n\u001b[0m",
      "\u001b[0;32m~/anaconda3/envs/SEVIMAworkflow/lib/python3.6/site-packages/selenium/webdriver/remote/webdriver.py\u001b[0m in \u001b[0;36mclose\u001b[0;34m(self)\u001b[0m\n\u001b[1;32m    686\u001b[0m             \u001b[0mdriver\u001b[0m\u001b[0;34m.\u001b[0m\u001b[0mclose\u001b[0m\u001b[0;34m(\u001b[0m\u001b[0;34m)\u001b[0m\u001b[0;34m\u001b[0m\u001b[0;34m\u001b[0m\u001b[0m\n\u001b[1;32m    687\u001b[0m         \"\"\"\n\u001b[0;32m--> 688\u001b[0;31m         \u001b[0mself\u001b[0m\u001b[0;34m.\u001b[0m\u001b[0mexecute\u001b[0m\u001b[0;34m(\u001b[0m\u001b[0mCommand\u001b[0m\u001b[0;34m.\u001b[0m\u001b[0mCLOSE\u001b[0m\u001b[0;34m)\u001b[0m\u001b[0;34m\u001b[0m\u001b[0;34m\u001b[0m\u001b[0m\n\u001b[0m\u001b[1;32m    689\u001b[0m \u001b[0;34m\u001b[0m\u001b[0m\n\u001b[1;32m    690\u001b[0m     \u001b[0;32mdef\u001b[0m \u001b[0mquit\u001b[0m\u001b[0;34m(\u001b[0m\u001b[0mself\u001b[0m\u001b[0;34m)\u001b[0m\u001b[0;34m:\u001b[0m\u001b[0;34m\u001b[0m\u001b[0;34m\u001b[0m\u001b[0m\n",
      "\u001b[0;32m~/anaconda3/envs/SEVIMAworkflow/lib/python3.6/site-packages/selenium/webdriver/remote/webdriver.py\u001b[0m in \u001b[0;36mexecute\u001b[0;34m(self, driver_command, params)\u001b[0m\n\u001b[1;32m    317\u001b[0m \u001b[0;34m\u001b[0m\u001b[0m\n\u001b[1;32m    318\u001b[0m         \u001b[0mparams\u001b[0m \u001b[0;34m=\u001b[0m \u001b[0mself\u001b[0m\u001b[0;34m.\u001b[0m\u001b[0m_wrap_value\u001b[0m\u001b[0;34m(\u001b[0m\u001b[0mparams\u001b[0m\u001b[0;34m)\u001b[0m\u001b[0;34m\u001b[0m\u001b[0;34m\u001b[0m\u001b[0m\n\u001b[0;32m--> 319\u001b[0;31m         \u001b[0mresponse\u001b[0m \u001b[0;34m=\u001b[0m \u001b[0mself\u001b[0m\u001b[0;34m.\u001b[0m\u001b[0mcommand_executor\u001b[0m\u001b[0;34m.\u001b[0m\u001b[0mexecute\u001b[0m\u001b[0;34m(\u001b[0m\u001b[0mdriver_command\u001b[0m\u001b[0;34m,\u001b[0m \u001b[0mparams\u001b[0m\u001b[0;34m)\u001b[0m\u001b[0;34m\u001b[0m\u001b[0;34m\u001b[0m\u001b[0m\n\u001b[0m\u001b[1;32m    320\u001b[0m         \u001b[0;32mif\u001b[0m \u001b[0mresponse\u001b[0m\u001b[0;34m:\u001b[0m\u001b[0;34m\u001b[0m\u001b[0;34m\u001b[0m\u001b[0m\n\u001b[1;32m    321\u001b[0m             \u001b[0mself\u001b[0m\u001b[0;34m.\u001b[0m\u001b[0merror_handler\u001b[0m\u001b[0;34m.\u001b[0m\u001b[0mcheck_response\u001b[0m\u001b[0;34m(\u001b[0m\u001b[0mresponse\u001b[0m\u001b[0;34m)\u001b[0m\u001b[0;34m\u001b[0m\u001b[0;34m\u001b[0m\u001b[0m\n",
      "\u001b[0;32m~/anaconda3/envs/SEVIMAworkflow/lib/python3.6/site-packages/selenium/webdriver/remote/remote_connection.py\u001b[0m in \u001b[0;36mexecute\u001b[0;34m(self, command, params)\u001b[0m\n\u001b[1;32m    372\u001b[0m         \u001b[0mdata\u001b[0m \u001b[0;34m=\u001b[0m \u001b[0mutils\u001b[0m\u001b[0;34m.\u001b[0m\u001b[0mdump_json\u001b[0m\u001b[0;34m(\u001b[0m\u001b[0mparams\u001b[0m\u001b[0;34m)\u001b[0m\u001b[0;34m\u001b[0m\u001b[0;34m\u001b[0m\u001b[0m\n\u001b[1;32m    373\u001b[0m         \u001b[0murl\u001b[0m \u001b[0;34m=\u001b[0m \u001b[0;34m'%s%s'\u001b[0m \u001b[0;34m%\u001b[0m \u001b[0;34m(\u001b[0m\u001b[0mself\u001b[0m\u001b[0;34m.\u001b[0m\u001b[0m_url\u001b[0m\u001b[0;34m,\u001b[0m \u001b[0mpath\u001b[0m\u001b[0;34m)\u001b[0m\u001b[0;34m\u001b[0m\u001b[0;34m\u001b[0m\u001b[0m\n\u001b[0;32m--> 374\u001b[0;31m         \u001b[0;32mreturn\u001b[0m \u001b[0mself\u001b[0m\u001b[0;34m.\u001b[0m\u001b[0m_request\u001b[0m\u001b[0;34m(\u001b[0m\u001b[0mcommand_info\u001b[0m\u001b[0;34m[\u001b[0m\u001b[0;36m0\u001b[0m\u001b[0;34m]\u001b[0m\u001b[0;34m,\u001b[0m \u001b[0murl\u001b[0m\u001b[0;34m,\u001b[0m \u001b[0mbody\u001b[0m\u001b[0;34m=\u001b[0m\u001b[0mdata\u001b[0m\u001b[0;34m)\u001b[0m\u001b[0;34m\u001b[0m\u001b[0;34m\u001b[0m\u001b[0m\n\u001b[0m\u001b[1;32m    375\u001b[0m \u001b[0;34m\u001b[0m\u001b[0m\n\u001b[1;32m    376\u001b[0m     \u001b[0;32mdef\u001b[0m \u001b[0m_request\u001b[0m\u001b[0;34m(\u001b[0m\u001b[0mself\u001b[0m\u001b[0;34m,\u001b[0m \u001b[0mmethod\u001b[0m\u001b[0;34m,\u001b[0m \u001b[0murl\u001b[0m\u001b[0;34m,\u001b[0m \u001b[0mbody\u001b[0m\u001b[0;34m=\u001b[0m\u001b[0;32mNone\u001b[0m\u001b[0;34m)\u001b[0m\u001b[0;34m:\u001b[0m\u001b[0;34m\u001b[0m\u001b[0;34m\u001b[0m\u001b[0m\n",
      "\u001b[0;32m~/anaconda3/envs/SEVIMAworkflow/lib/python3.6/site-packages/selenium/webdriver/remote/remote_connection.py\u001b[0m in \u001b[0;36m_request\u001b[0;34m(self, method, url, body)\u001b[0m\n\u001b[1;32m    395\u001b[0m \u001b[0;34m\u001b[0m\u001b[0m\n\u001b[1;32m    396\u001b[0m         \u001b[0;32mif\u001b[0m \u001b[0mself\u001b[0m\u001b[0;34m.\u001b[0m\u001b[0mkeep_alive\u001b[0m\u001b[0;34m:\u001b[0m\u001b[0;34m\u001b[0m\u001b[0;34m\u001b[0m\u001b[0m\n\u001b[0;32m--> 397\u001b[0;31m             \u001b[0mresp\u001b[0m \u001b[0;34m=\u001b[0m \u001b[0mself\u001b[0m\u001b[0;34m.\u001b[0m\u001b[0m_conn\u001b[0m\u001b[0;34m.\u001b[0m\u001b[0mrequest\u001b[0m\u001b[0;34m(\u001b[0m\u001b[0mmethod\u001b[0m\u001b[0;34m,\u001b[0m \u001b[0murl\u001b[0m\u001b[0;34m,\u001b[0m \u001b[0mbody\u001b[0m\u001b[0;34m=\u001b[0m\u001b[0mbody\u001b[0m\u001b[0;34m,\u001b[0m \u001b[0mheaders\u001b[0m\u001b[0;34m=\u001b[0m\u001b[0mheaders\u001b[0m\u001b[0;34m)\u001b[0m\u001b[0;34m\u001b[0m\u001b[0;34m\u001b[0m\u001b[0m\n\u001b[0m\u001b[1;32m    398\u001b[0m \u001b[0;34m\u001b[0m\u001b[0m\n\u001b[1;32m    399\u001b[0m             \u001b[0mstatuscode\u001b[0m \u001b[0;34m=\u001b[0m \u001b[0mresp\u001b[0m\u001b[0;34m.\u001b[0m\u001b[0mstatus\u001b[0m\u001b[0;34m\u001b[0m\u001b[0;34m\u001b[0m\u001b[0m\n",
      "\u001b[0;32m~/anaconda3/envs/SEVIMAworkflow/lib/python3.6/site-packages/urllib3/request.py\u001b[0m in \u001b[0;36mrequest\u001b[0;34m(self, method, url, fields, headers, **urlopen_kw)\u001b[0m\n\u001b[1;32m     74\u001b[0m         \u001b[0;32mif\u001b[0m \u001b[0mmethod\u001b[0m \u001b[0;32min\u001b[0m \u001b[0mself\u001b[0m\u001b[0;34m.\u001b[0m\u001b[0m_encode_url_methods\u001b[0m\u001b[0;34m:\u001b[0m\u001b[0;34m\u001b[0m\u001b[0;34m\u001b[0m\u001b[0m\n\u001b[1;32m     75\u001b[0m             return self.request_encode_url(\n\u001b[0;32m---> 76\u001b[0;31m                 \u001b[0mmethod\u001b[0m\u001b[0;34m,\u001b[0m \u001b[0murl\u001b[0m\u001b[0;34m,\u001b[0m \u001b[0mfields\u001b[0m\u001b[0;34m=\u001b[0m\u001b[0mfields\u001b[0m\u001b[0;34m,\u001b[0m \u001b[0mheaders\u001b[0m\u001b[0;34m=\u001b[0m\u001b[0mheaders\u001b[0m\u001b[0;34m,\u001b[0m \u001b[0;34m**\u001b[0m\u001b[0murlopen_kw\u001b[0m\u001b[0;34m\u001b[0m\u001b[0;34m\u001b[0m\u001b[0m\n\u001b[0m\u001b[1;32m     77\u001b[0m             )\n\u001b[1;32m     78\u001b[0m         \u001b[0;32melse\u001b[0m\u001b[0;34m:\u001b[0m\u001b[0;34m\u001b[0m\u001b[0;34m\u001b[0m\u001b[0m\n",
      "\u001b[0;32m~/anaconda3/envs/SEVIMAworkflow/lib/python3.6/site-packages/urllib3/request.py\u001b[0m in \u001b[0;36mrequest_encode_url\u001b[0;34m(self, method, url, fields, headers, **urlopen_kw)\u001b[0m\n\u001b[1;32m     95\u001b[0m             \u001b[0murl\u001b[0m \u001b[0;34m+=\u001b[0m \u001b[0;34m\"?\"\u001b[0m \u001b[0;34m+\u001b[0m \u001b[0murlencode\u001b[0m\u001b[0;34m(\u001b[0m\u001b[0mfields\u001b[0m\u001b[0;34m)\u001b[0m\u001b[0;34m\u001b[0m\u001b[0;34m\u001b[0m\u001b[0m\n\u001b[1;32m     96\u001b[0m \u001b[0;34m\u001b[0m\u001b[0m\n\u001b[0;32m---> 97\u001b[0;31m         \u001b[0;32mreturn\u001b[0m \u001b[0mself\u001b[0m\u001b[0;34m.\u001b[0m\u001b[0murlopen\u001b[0m\u001b[0;34m(\u001b[0m\u001b[0mmethod\u001b[0m\u001b[0;34m,\u001b[0m \u001b[0murl\u001b[0m\u001b[0;34m,\u001b[0m \u001b[0;34m**\u001b[0m\u001b[0mextra_kw\u001b[0m\u001b[0;34m)\u001b[0m\u001b[0;34m\u001b[0m\u001b[0;34m\u001b[0m\u001b[0m\n\u001b[0m\u001b[1;32m     98\u001b[0m \u001b[0;34m\u001b[0m\u001b[0m\n\u001b[1;32m     99\u001b[0m     def request_encode_body(\n",
      "\u001b[0;32m~/anaconda3/envs/SEVIMAworkflow/lib/python3.6/site-packages/urllib3/poolmanager.py\u001b[0m in \u001b[0;36murlopen\u001b[0;34m(self, method, url, redirect, **kw)\u001b[0m\n\u001b[1;32m    334\u001b[0m             \u001b[0mresponse\u001b[0m \u001b[0;34m=\u001b[0m \u001b[0mconn\u001b[0m\u001b[0;34m.\u001b[0m\u001b[0murlopen\u001b[0m\u001b[0;34m(\u001b[0m\u001b[0mmethod\u001b[0m\u001b[0;34m,\u001b[0m \u001b[0murl\u001b[0m\u001b[0;34m,\u001b[0m \u001b[0;34m**\u001b[0m\u001b[0mkw\u001b[0m\u001b[0;34m)\u001b[0m\u001b[0;34m\u001b[0m\u001b[0;34m\u001b[0m\u001b[0m\n\u001b[1;32m    335\u001b[0m         \u001b[0;32melse\u001b[0m\u001b[0;34m:\u001b[0m\u001b[0;34m\u001b[0m\u001b[0;34m\u001b[0m\u001b[0m\n\u001b[0;32m--> 336\u001b[0;31m             \u001b[0mresponse\u001b[0m \u001b[0;34m=\u001b[0m \u001b[0mconn\u001b[0m\u001b[0;34m.\u001b[0m\u001b[0murlopen\u001b[0m\u001b[0;34m(\u001b[0m\u001b[0mmethod\u001b[0m\u001b[0;34m,\u001b[0m \u001b[0mu\u001b[0m\u001b[0;34m.\u001b[0m\u001b[0mrequest_uri\u001b[0m\u001b[0;34m,\u001b[0m \u001b[0;34m**\u001b[0m\u001b[0mkw\u001b[0m\u001b[0;34m)\u001b[0m\u001b[0;34m\u001b[0m\u001b[0;34m\u001b[0m\u001b[0m\n\u001b[0m\u001b[1;32m    337\u001b[0m \u001b[0;34m\u001b[0m\u001b[0m\n\u001b[1;32m    338\u001b[0m         \u001b[0mredirect_location\u001b[0m \u001b[0;34m=\u001b[0m \u001b[0mredirect\u001b[0m \u001b[0;32mand\u001b[0m \u001b[0mresponse\u001b[0m\u001b[0;34m.\u001b[0m\u001b[0mget_redirect_location\u001b[0m\u001b[0;34m(\u001b[0m\u001b[0;34m)\u001b[0m\u001b[0;34m\u001b[0m\u001b[0;34m\u001b[0m\u001b[0m\n",
      "\u001b[0;32m~/anaconda3/envs/SEVIMAworkflow/lib/python3.6/site-packages/urllib3/connectionpool.py\u001b[0m in \u001b[0;36murlopen\u001b[0;34m(self, method, url, body, headers, retries, redirect, assert_same_host, timeout, pool_timeout, release_conn, chunked, body_pos, **response_kw)\u001b[0m\n\u001b[1;32m    765\u001b[0m                 \u001b[0mchunked\u001b[0m\u001b[0;34m=\u001b[0m\u001b[0mchunked\u001b[0m\u001b[0;34m,\u001b[0m\u001b[0;34m\u001b[0m\u001b[0;34m\u001b[0m\u001b[0m\n\u001b[1;32m    766\u001b[0m                 \u001b[0mbody_pos\u001b[0m\u001b[0;34m=\u001b[0m\u001b[0mbody_pos\u001b[0m\u001b[0;34m,\u001b[0m\u001b[0;34m\u001b[0m\u001b[0;34m\u001b[0m\u001b[0m\n\u001b[0;32m--> 767\u001b[0;31m                 \u001b[0;34m**\u001b[0m\u001b[0mresponse_kw\u001b[0m\u001b[0;34m\u001b[0m\u001b[0;34m\u001b[0m\u001b[0m\n\u001b[0m\u001b[1;32m    768\u001b[0m             )\n\u001b[1;32m    769\u001b[0m \u001b[0;34m\u001b[0m\u001b[0m\n",
      "\u001b[0;32m~/anaconda3/envs/SEVIMAworkflow/lib/python3.6/site-packages/urllib3/connectionpool.py\u001b[0m in \u001b[0;36murlopen\u001b[0;34m(self, method, url, body, headers, retries, redirect, assert_same_host, timeout, pool_timeout, release_conn, chunked, body_pos, **response_kw)\u001b[0m\n\u001b[1;32m    765\u001b[0m                 \u001b[0mchunked\u001b[0m\u001b[0;34m=\u001b[0m\u001b[0mchunked\u001b[0m\u001b[0;34m,\u001b[0m\u001b[0;34m\u001b[0m\u001b[0;34m\u001b[0m\u001b[0m\n\u001b[1;32m    766\u001b[0m                 \u001b[0mbody_pos\u001b[0m\u001b[0;34m=\u001b[0m\u001b[0mbody_pos\u001b[0m\u001b[0;34m,\u001b[0m\u001b[0;34m\u001b[0m\u001b[0;34m\u001b[0m\u001b[0m\n\u001b[0;32m--> 767\u001b[0;31m                 \u001b[0;34m**\u001b[0m\u001b[0mresponse_kw\u001b[0m\u001b[0;34m\u001b[0m\u001b[0;34m\u001b[0m\u001b[0m\n\u001b[0m\u001b[1;32m    768\u001b[0m             )\n\u001b[1;32m    769\u001b[0m \u001b[0;34m\u001b[0m\u001b[0m\n",
      "\u001b[0;32m~/anaconda3/envs/SEVIMAworkflow/lib/python3.6/site-packages/urllib3/connectionpool.py\u001b[0m in \u001b[0;36murlopen\u001b[0;34m(self, method, url, body, headers, retries, redirect, assert_same_host, timeout, pool_timeout, release_conn, chunked, body_pos, **response_kw)\u001b[0m\n\u001b[1;32m    765\u001b[0m                 \u001b[0mchunked\u001b[0m\u001b[0;34m=\u001b[0m\u001b[0mchunked\u001b[0m\u001b[0;34m,\u001b[0m\u001b[0;34m\u001b[0m\u001b[0;34m\u001b[0m\u001b[0m\n\u001b[1;32m    766\u001b[0m                 \u001b[0mbody_pos\u001b[0m\u001b[0;34m=\u001b[0m\u001b[0mbody_pos\u001b[0m\u001b[0;34m,\u001b[0m\u001b[0;34m\u001b[0m\u001b[0;34m\u001b[0m\u001b[0m\n\u001b[0;32m--> 767\u001b[0;31m                 \u001b[0;34m**\u001b[0m\u001b[0mresponse_kw\u001b[0m\u001b[0;34m\u001b[0m\u001b[0;34m\u001b[0m\u001b[0m\n\u001b[0m\u001b[1;32m    768\u001b[0m             )\n\u001b[1;32m    769\u001b[0m \u001b[0;34m\u001b[0m\u001b[0m\n",
      "\u001b[0;32m~/anaconda3/envs/SEVIMAworkflow/lib/python3.6/site-packages/urllib3/connectionpool.py\u001b[0m in \u001b[0;36murlopen\u001b[0;34m(self, method, url, body, headers, retries, redirect, assert_same_host, timeout, pool_timeout, release_conn, chunked, body_pos, **response_kw)\u001b[0m\n\u001b[1;32m    725\u001b[0m \u001b[0;34m\u001b[0m\u001b[0m\n\u001b[1;32m    726\u001b[0m             retries = retries.increment(\n\u001b[0;32m--> 727\u001b[0;31m                 \u001b[0mmethod\u001b[0m\u001b[0;34m,\u001b[0m \u001b[0murl\u001b[0m\u001b[0;34m,\u001b[0m \u001b[0merror\u001b[0m\u001b[0;34m=\u001b[0m\u001b[0me\u001b[0m\u001b[0;34m,\u001b[0m \u001b[0m_pool\u001b[0m\u001b[0;34m=\u001b[0m\u001b[0mself\u001b[0m\u001b[0;34m,\u001b[0m \u001b[0m_stacktrace\u001b[0m\u001b[0;34m=\u001b[0m\u001b[0msys\u001b[0m\u001b[0;34m.\u001b[0m\u001b[0mexc_info\u001b[0m\u001b[0;34m(\u001b[0m\u001b[0;34m)\u001b[0m\u001b[0;34m[\u001b[0m\u001b[0;36m2\u001b[0m\u001b[0;34m]\u001b[0m\u001b[0;34m\u001b[0m\u001b[0;34m\u001b[0m\u001b[0m\n\u001b[0m\u001b[1;32m    728\u001b[0m             )\n\u001b[1;32m    729\u001b[0m             \u001b[0mretries\u001b[0m\u001b[0;34m.\u001b[0m\u001b[0msleep\u001b[0m\u001b[0;34m(\u001b[0m\u001b[0;34m)\u001b[0m\u001b[0;34m\u001b[0m\u001b[0;34m\u001b[0m\u001b[0m\n",
      "\u001b[0;32m~/anaconda3/envs/SEVIMAworkflow/lib/python3.6/site-packages/urllib3/util/retry.py\u001b[0m in \u001b[0;36mincrement\u001b[0;34m(self, method, url, response, error, _pool, _stacktrace)\u001b[0m\n\u001b[1;32m    437\u001b[0m \u001b[0;34m\u001b[0m\u001b[0m\n\u001b[1;32m    438\u001b[0m         \u001b[0;32mif\u001b[0m \u001b[0mnew_retry\u001b[0m\u001b[0;34m.\u001b[0m\u001b[0mis_exhausted\u001b[0m\u001b[0;34m(\u001b[0m\u001b[0;34m)\u001b[0m\u001b[0;34m:\u001b[0m\u001b[0;34m\u001b[0m\u001b[0;34m\u001b[0m\u001b[0m\n\u001b[0;32m--> 439\u001b[0;31m             \u001b[0;32mraise\u001b[0m \u001b[0mMaxRetryError\u001b[0m\u001b[0;34m(\u001b[0m\u001b[0m_pool\u001b[0m\u001b[0;34m,\u001b[0m \u001b[0murl\u001b[0m\u001b[0;34m,\u001b[0m \u001b[0merror\u001b[0m \u001b[0;32mor\u001b[0m \u001b[0mResponseError\u001b[0m\u001b[0;34m(\u001b[0m\u001b[0mcause\u001b[0m\u001b[0;34m)\u001b[0m\u001b[0;34m)\u001b[0m\u001b[0;34m\u001b[0m\u001b[0;34m\u001b[0m\u001b[0m\n\u001b[0m\u001b[1;32m    440\u001b[0m \u001b[0;34m\u001b[0m\u001b[0m\n\u001b[1;32m    441\u001b[0m         \u001b[0mlog\u001b[0m\u001b[0;34m.\u001b[0m\u001b[0mdebug\u001b[0m\u001b[0;34m(\u001b[0m\u001b[0;34m\"Incremented Retry for (url='%s'): %r\"\u001b[0m\u001b[0;34m,\u001b[0m \u001b[0murl\u001b[0m\u001b[0;34m,\u001b[0m \u001b[0mnew_retry\u001b[0m\u001b[0;34m)\u001b[0m\u001b[0;34m\u001b[0m\u001b[0;34m\u001b[0m\u001b[0m\n",
      "\u001b[0;31mMaxRetryError\u001b[0m: HTTPConnectionPool(host='127.0.0.1', port=56141): Max retries exceeded with url: /session/2ff721fa-f5d8-4087-a620-ac3358fb2bf5/window (Caused by NewConnectionError('<urllib3.connection.HTTPConnection object at 0x7f741c616f60>: Failed to establish a new connection: [Errno 111] Connection refused',))"
     ]
    }
   ],
   "source": [
    "navegador.close()"
   ]
  },
  {
   "cell_type": "markdown",
   "metadata": {},
   "source": [
    "# GENERACION DEL ARCHIVO DE LINKS "
   ]
  },
  {
   "cell_type": "code",
   "execution_count": 47,
   "metadata": {},
   "outputs": [
    {
     "data": {
      "text/plain": [
       "'20210803'"
      ]
     },
     "execution_count": 47,
     "metadata": {},
     "output_type": "execute_result"
    }
   ],
   "source": [
    "fecha_i"
   ]
  },
  {
   "cell_type": "code",
   "execution_count": 48,
   "metadata": {},
   "outputs": [
    {
     "name": "stdout",
     "output_type": "stream",
     "text": [
      "Se genero el archivo exitosamente! \n"
     ]
    }
   ],
   "source": [
    "DF_PENDIENTES = pd.read_csv(\"{}.csv\".format(fecha_i))\n",
    "\n",
    "# B = open(\"E:\\\\sevima\\\\SEVIMAworkflow-master\\\\fichasCNS\\\\FICHAS\\\\\"+  \"LinksMensajes_{}.html\".format(fecha_i),\"w\") # Windows \n",
    "B = open(\"/media/F/sevima/SEVIMAworkflow-master/fichasCNS/FICHAS/\"+  \"LinksMensajes_{}.html\".format(fecha_i),\"w\")\n",
    "for data_i in DF_PENDIENTES.to_dict(orient=\"records\") :\n",
    "    # print(\"https://wa.me/591{}?text=Buen+dia%2C+adjunta+su+ficha.+Le+recordamos+estar+15+minutos+antes+de+su+hora+de+atenci%C3%B3n+para+no+perder+su+turno.\".format(data_i[\"celular\"]))\n",
    "#    B.writelines('<h1> <a href=\"https://wa.me/591{}?text=Muy%20buenas%20noches%2C%20lamento%20comunicarle%20que%20el%20sistema%20de%20la%20Caja%20Nacional%20de%20Salud%20parece%20estar%20en%20mantenimiento%20por%20lo%20tanto%20no%20se%20pueden%20sacar%20fichas.%20Esta%20eventualidad%20escapa%20de%20mis%20manos%20para%20poder%20brindarle%20el%20servicio.%20Espero%20que%20ma%C3%B1ana%20se%20habilite%20otra%20vez%20el%20sistema%20y%20en%20funci%C3%B3n%20a%20eso%20yo%20le%20comunico%20las%20novedades%2C%20otra%20vez%20mil%20disculpas.%20\"  target=\"_blank\" > {} {} {} {} </a> </h1> <br>'.format(data_i[\"celular\"],data_i[\"celular\"], data_i[\"nombre\"], data_i[\"ap_paterno\"], data_i[\"contacto\"] ))\n",
    "    B.writelines('<h1> <a href=\"https://wa.me/591{}?text=Buenas+tardes%2C+adjunta+su+ficha.+Le+recordamos+estar+15+minutos+antes+de+su+hora+de+atenci%C3%B3n+para+no+perder+su+turno.\"  target=\"_blank\" > {} {} {} {} </a> </h1> <br>'.format(data_i[\"celular\"],data_i[\"celular\"], data_i[\"nombre\"], data_i[\"ap_paterno\"], data_i[\"contacto\"] ))\n",
    "print(\"Se genero el archivo exitosamente! \")\n",
    "B.close()"
   ]
  },
  {
   "cell_type": "code",
   "execution_count": null,
   "metadata": {},
   "outputs": [],
   "source": []
  },
  {
   "cell_type": "code",
   "execution_count": 49,
   "metadata": {},
   "outputs": [
    {
     "data": {
      "text/plain": [
       "0"
      ]
     },
     "execution_count": 49,
     "metadata": {},
     "output_type": "execute_result"
    }
   ],
   "source": [
    "# Generando Archivo de compresión\n",
    "os.system(\"cd {down_dir} && rar a FICHAS_{fec}.rar *\".format(fec = fecha_i, down_dir = download_directory))"
   ]
  },
  {
   "cell_type": "code",
   "execution_count": null,
   "metadata": {},
   "outputs": [],
   "source": []
  },
  {
   "cell_type": "markdown",
   "metadata": {},
   "source": [
    "# Guardando las respuetas "
   ]
  },
  {
   "cell_type": "code",
   "execution_count": 50,
   "metadata": {},
   "outputs": [],
   "source": [
    "import pickle\n",
    "pickle_file = open('respuestas{}.pickle'.format(fecha_i), 'wb')\n",
    "pickle.dump([i.result() for i in ronda_i], pickle_file)\n",
    "pickle_file.close()"
   ]
  }
 ],
 "metadata": {
  "kernelspec": {
   "display_name": "Python 3",
   "language": "python",
   "name": "python3"
  },
  "language_info": {
   "codemirror_mode": {
    "name": "ipython",
    "version": 3
   },
   "file_extension": ".py",
   "mimetype": "text/x-python",
   "name": "python",
   "nbconvert_exporter": "python",
   "pygments_lexer": "ipython3",
   "version": "3.6.12"
  }
 },
 "nbformat": 4,
 "nbformat_minor": 4
}
